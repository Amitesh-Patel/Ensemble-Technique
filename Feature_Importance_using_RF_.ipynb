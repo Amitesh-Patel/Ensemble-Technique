{
  "cells": [
    {
      "cell_type": "code",
      "execution_count": null,
      "id": "8d0d33c9",
      "metadata": {
        "id": "8d0d33c9"
      },
      "outputs": [],
      "source": [
        "import pandas as pd\n",
        "import seaborn as sns"
      ]
    },
    {
      "cell_type": "code",
      "execution_count": null,
      "id": "b0aa3f74",
      "metadata": {
        "id": "b0aa3f74"
      },
      "outputs": [],
      "source": [
        "df = pd.read_csv('/content/train.csv')"
      ]
    },
    {
      "cell_type": "code",
      "execution_count": null,
      "id": "493ce773",
      "metadata": {
        "colab": {
          "base_uri": "https://localhost:8080/",
          "height": 300
        },
        "id": "493ce773",
        "outputId": "b4247baf-d955-492b-b79f-b6c54f2a44c3"
      },
      "outputs": [
        {
          "output_type": "execute_result",
          "data": {
            "text/plain": [
              "   label  pixel0  pixel1  pixel2  pixel3  pixel4  pixel5  pixel6  pixel7  \\\n",
              "0      1       0       0       0       0       0       0       0       0   \n",
              "1      0       0       0       0       0       0       0       0       0   \n",
              "2      1       0       0       0       0       0       0       0       0   \n",
              "3      4       0       0       0       0       0       0       0       0   \n",
              "4      0       0       0       0       0       0       0       0       0   \n",
              "\n",
              "   pixel8  ...  pixel774  pixel775  pixel776  pixel777  pixel778  pixel779  \\\n",
              "0       0  ...         0         0         0         0         0         0   \n",
              "1       0  ...         0         0         0         0         0         0   \n",
              "2       0  ...         0         0         0         0         0         0   \n",
              "3       0  ...         0         0         0         0         0         0   \n",
              "4       0  ...         0         0         0         0         0         0   \n",
              "\n",
              "   pixel780  pixel781  pixel782  pixel783  \n",
              "0         0         0         0         0  \n",
              "1         0         0         0         0  \n",
              "2         0         0         0         0  \n",
              "3         0         0         0         0  \n",
              "4         0         0         0         0  \n",
              "\n",
              "[5 rows x 785 columns]"
            ],
            "text/html": [
              "\n",
              "  <div id=\"df-44e9c9b7-163a-4cf8-b4c3-0d385d1c5e12\">\n",
              "    <div class=\"colab-df-container\">\n",
              "      <div>\n",
              "<style scoped>\n",
              "    .dataframe tbody tr th:only-of-type {\n",
              "        vertical-align: middle;\n",
              "    }\n",
              "\n",
              "    .dataframe tbody tr th {\n",
              "        vertical-align: top;\n",
              "    }\n",
              "\n",
              "    .dataframe thead th {\n",
              "        text-align: right;\n",
              "    }\n",
              "</style>\n",
              "<table border=\"1\" class=\"dataframe\">\n",
              "  <thead>\n",
              "    <tr style=\"text-align: right;\">\n",
              "      <th></th>\n",
              "      <th>label</th>\n",
              "      <th>pixel0</th>\n",
              "      <th>pixel1</th>\n",
              "      <th>pixel2</th>\n",
              "      <th>pixel3</th>\n",
              "      <th>pixel4</th>\n",
              "      <th>pixel5</th>\n",
              "      <th>pixel6</th>\n",
              "      <th>pixel7</th>\n",
              "      <th>pixel8</th>\n",
              "      <th>...</th>\n",
              "      <th>pixel774</th>\n",
              "      <th>pixel775</th>\n",
              "      <th>pixel776</th>\n",
              "      <th>pixel777</th>\n",
              "      <th>pixel778</th>\n",
              "      <th>pixel779</th>\n",
              "      <th>pixel780</th>\n",
              "      <th>pixel781</th>\n",
              "      <th>pixel782</th>\n",
              "      <th>pixel783</th>\n",
              "    </tr>\n",
              "  </thead>\n",
              "  <tbody>\n",
              "    <tr>\n",
              "      <th>0</th>\n",
              "      <td>1</td>\n",
              "      <td>0</td>\n",
              "      <td>0</td>\n",
              "      <td>0</td>\n",
              "      <td>0</td>\n",
              "      <td>0</td>\n",
              "      <td>0</td>\n",
              "      <td>0</td>\n",
              "      <td>0</td>\n",
              "      <td>0</td>\n",
              "      <td>...</td>\n",
              "      <td>0</td>\n",
              "      <td>0</td>\n",
              "      <td>0</td>\n",
              "      <td>0</td>\n",
              "      <td>0</td>\n",
              "      <td>0</td>\n",
              "      <td>0</td>\n",
              "      <td>0</td>\n",
              "      <td>0</td>\n",
              "      <td>0</td>\n",
              "    </tr>\n",
              "    <tr>\n",
              "      <th>1</th>\n",
              "      <td>0</td>\n",
              "      <td>0</td>\n",
              "      <td>0</td>\n",
              "      <td>0</td>\n",
              "      <td>0</td>\n",
              "      <td>0</td>\n",
              "      <td>0</td>\n",
              "      <td>0</td>\n",
              "      <td>0</td>\n",
              "      <td>0</td>\n",
              "      <td>...</td>\n",
              "      <td>0</td>\n",
              "      <td>0</td>\n",
              "      <td>0</td>\n",
              "      <td>0</td>\n",
              "      <td>0</td>\n",
              "      <td>0</td>\n",
              "      <td>0</td>\n",
              "      <td>0</td>\n",
              "      <td>0</td>\n",
              "      <td>0</td>\n",
              "    </tr>\n",
              "    <tr>\n",
              "      <th>2</th>\n",
              "      <td>1</td>\n",
              "      <td>0</td>\n",
              "      <td>0</td>\n",
              "      <td>0</td>\n",
              "      <td>0</td>\n",
              "      <td>0</td>\n",
              "      <td>0</td>\n",
              "      <td>0</td>\n",
              "      <td>0</td>\n",
              "      <td>0</td>\n",
              "      <td>...</td>\n",
              "      <td>0</td>\n",
              "      <td>0</td>\n",
              "      <td>0</td>\n",
              "      <td>0</td>\n",
              "      <td>0</td>\n",
              "      <td>0</td>\n",
              "      <td>0</td>\n",
              "      <td>0</td>\n",
              "      <td>0</td>\n",
              "      <td>0</td>\n",
              "    </tr>\n",
              "    <tr>\n",
              "      <th>3</th>\n",
              "      <td>4</td>\n",
              "      <td>0</td>\n",
              "      <td>0</td>\n",
              "      <td>0</td>\n",
              "      <td>0</td>\n",
              "      <td>0</td>\n",
              "      <td>0</td>\n",
              "      <td>0</td>\n",
              "      <td>0</td>\n",
              "      <td>0</td>\n",
              "      <td>...</td>\n",
              "      <td>0</td>\n",
              "      <td>0</td>\n",
              "      <td>0</td>\n",
              "      <td>0</td>\n",
              "      <td>0</td>\n",
              "      <td>0</td>\n",
              "      <td>0</td>\n",
              "      <td>0</td>\n",
              "      <td>0</td>\n",
              "      <td>0</td>\n",
              "    </tr>\n",
              "    <tr>\n",
              "      <th>4</th>\n",
              "      <td>0</td>\n",
              "      <td>0</td>\n",
              "      <td>0</td>\n",
              "      <td>0</td>\n",
              "      <td>0</td>\n",
              "      <td>0</td>\n",
              "      <td>0</td>\n",
              "      <td>0</td>\n",
              "      <td>0</td>\n",
              "      <td>0</td>\n",
              "      <td>...</td>\n",
              "      <td>0</td>\n",
              "      <td>0</td>\n",
              "      <td>0</td>\n",
              "      <td>0</td>\n",
              "      <td>0</td>\n",
              "      <td>0</td>\n",
              "      <td>0</td>\n",
              "      <td>0</td>\n",
              "      <td>0</td>\n",
              "      <td>0</td>\n",
              "    </tr>\n",
              "  </tbody>\n",
              "</table>\n",
              "<p>5 rows × 785 columns</p>\n",
              "</div>\n",
              "      <button class=\"colab-df-convert\" onclick=\"convertToInteractive('df-44e9c9b7-163a-4cf8-b4c3-0d385d1c5e12')\"\n",
              "              title=\"Convert this dataframe to an interactive table.\"\n",
              "              style=\"display:none;\">\n",
              "        \n",
              "  <svg xmlns=\"http://www.w3.org/2000/svg\" height=\"24px\"viewBox=\"0 0 24 24\"\n",
              "       width=\"24px\">\n",
              "    <path d=\"M0 0h24v24H0V0z\" fill=\"none\"/>\n",
              "    <path d=\"M18.56 5.44l.94 2.06.94-2.06 2.06-.94-2.06-.94-.94-2.06-.94 2.06-2.06.94zm-11 1L8.5 8.5l.94-2.06 2.06-.94-2.06-.94L8.5 2.5l-.94 2.06-2.06.94zm10 10l.94 2.06.94-2.06 2.06-.94-2.06-.94-.94-2.06-.94 2.06-2.06.94z\"/><path d=\"M17.41 7.96l-1.37-1.37c-.4-.4-.92-.59-1.43-.59-.52 0-1.04.2-1.43.59L10.3 9.45l-7.72 7.72c-.78.78-.78 2.05 0 2.83L4 21.41c.39.39.9.59 1.41.59.51 0 1.02-.2 1.41-.59l7.78-7.78 2.81-2.81c.8-.78.8-2.07 0-2.86zM5.41 20L4 18.59l7.72-7.72 1.47 1.35L5.41 20z\"/>\n",
              "  </svg>\n",
              "      </button>\n",
              "      \n",
              "  <style>\n",
              "    .colab-df-container {\n",
              "      display:flex;\n",
              "      flex-wrap:wrap;\n",
              "      gap: 12px;\n",
              "    }\n",
              "\n",
              "    .colab-df-convert {\n",
              "      background-color: #E8F0FE;\n",
              "      border: none;\n",
              "      border-radius: 50%;\n",
              "      cursor: pointer;\n",
              "      display: none;\n",
              "      fill: #1967D2;\n",
              "      height: 32px;\n",
              "      padding: 0 0 0 0;\n",
              "      width: 32px;\n",
              "    }\n",
              "\n",
              "    .colab-df-convert:hover {\n",
              "      background-color: #E2EBFA;\n",
              "      box-shadow: 0px 1px 2px rgba(60, 64, 67, 0.3), 0px 1px 3px 1px rgba(60, 64, 67, 0.15);\n",
              "      fill: #174EA6;\n",
              "    }\n",
              "\n",
              "    [theme=dark] .colab-df-convert {\n",
              "      background-color: #3B4455;\n",
              "      fill: #D2E3FC;\n",
              "    }\n",
              "\n",
              "    [theme=dark] .colab-df-convert:hover {\n",
              "      background-color: #434B5C;\n",
              "      box-shadow: 0px 1px 3px 1px rgba(0, 0, 0, 0.15);\n",
              "      filter: drop-shadow(0px 1px 2px rgba(0, 0, 0, 0.3));\n",
              "      fill: #FFFFFF;\n",
              "    }\n",
              "  </style>\n",
              "\n",
              "      <script>\n",
              "        const buttonEl =\n",
              "          document.querySelector('#df-44e9c9b7-163a-4cf8-b4c3-0d385d1c5e12 button.colab-df-convert');\n",
              "        buttonEl.style.display =\n",
              "          google.colab.kernel.accessAllowed ? 'block' : 'none';\n",
              "\n",
              "        async function convertToInteractive(key) {\n",
              "          const element = document.querySelector('#df-44e9c9b7-163a-4cf8-b4c3-0d385d1c5e12');\n",
              "          const dataTable =\n",
              "            await google.colab.kernel.invokeFunction('convertToInteractive',\n",
              "                                                     [key], {});\n",
              "          if (!dataTable) return;\n",
              "\n",
              "          const docLinkHtml = 'Like what you see? Visit the ' +\n",
              "            '<a target=\"_blank\" href=https://colab.research.google.com/notebooks/data_table.ipynb>data table notebook</a>'\n",
              "            + ' to learn more about interactive tables.';\n",
              "          element.innerHTML = '';\n",
              "          dataTable['output_type'] = 'display_data';\n",
              "          await google.colab.output.renderOutput(dataTable, element);\n",
              "          const docLink = document.createElement('div');\n",
              "          docLink.innerHTML = docLinkHtml;\n",
              "          element.appendChild(docLink);\n",
              "        }\n",
              "      </script>\n",
              "    </div>\n",
              "  </div>\n",
              "  "
            ]
          },
          "metadata": {},
          "execution_count": 5
        }
      ],
      "source": [
        "df.head()"
      ]
    },
    {
      "cell_type": "code",
      "execution_count": null,
      "id": "4e99c4a0",
      "metadata": {
        "id": "4e99c4a0"
      },
      "outputs": [],
      "source": [
        "X = df.iloc[:,1:]\n",
        "y = df.iloc[:,0]\n"
      ]
    },
    {
      "cell_type": "code",
      "execution_count": null,
      "id": "d5b9af3f",
      "metadata": {
        "colab": {
          "base_uri": "https://localhost:8080/",
          "height": 282
        },
        "id": "d5b9af3f",
        "outputId": "bafc9519-d51c-4824-a8ba-f80e53ca94fc"
      },
      "outputs": [
        {
          "output_type": "execute_result",
          "data": {
            "text/plain": [
              "<AxesSubplot:>"
            ]
          },
          "metadata": {},
          "execution_count": 7
        },
        {
          "output_type": "display_data",
          "data": {
            "text/plain": [
              "<Figure size 432x288 with 2 Axes>"
            ],
            "image/png": "[encoded data removed]"
          },
          "metadata": {
            "needs_background": "light"
          }
        }
      ],
      "source": [
        "sns.heatmap(X.iloc[5].values.reshape(28,28))"
      ]
    },
    {
      "cell_type": "code",
      "execution_count": null,
      "id": "fa080863",
      "metadata": {
        "colab": {
          "base_uri": "https://localhost:8080/",
          "height": 75
        },
        "id": "fa080863",
        "outputId": "47f1d8fb-913e-436c-80e6-eb271f67a95b"
      },
      "outputs": [
        {
          "output_type": "execute_result",
          "data": {
            "text/plain": [
              "RandomForestClassifier()"
            ],
            "text/html": [
              "<style>#sk-container-id-1 {color: black;background-color: white;}#sk-container-id-1 pre{padding: 0;}#sk-container-id-1 div.sk-toggleable {background-color: white;}#sk-container-id-1 label.sk-toggleable__label {cursor: pointer;display: block;width: 100%;margin-bottom: 0;padding: 0.3em;box-sizing: border-box;text-align: center;}#sk-container-id-1 label.sk-toggleable__label-arrow:before {content: \"▸\";float: left;margin-right: 0.25em;color: #696969;}#sk-container-id-1 label.sk-toggleable__label-arrow:hover:before {color: black;}#sk-container-id-1 div.sk-estimator:hover label.sk-toggleable__label-arrow:before {color: black;}#sk-container-id-1 div.sk-toggleable__content {max-height: 0;max-width: 0;overflow: hidden;text-align: left;background-color: #f0f8ff;}#sk-container-id-1 div.sk-toggleable__content pre {margin: 0.2em;color: black;border-radius: 0.25em;background-color: #f0f8ff;}#sk-container-id-1 input.sk-toggleable__control:checked~div.sk-toggleable__content {max-height: 200px;max-width: 100%;overflow: auto;}#sk-container-id-1 input.sk-toggleable__control:checked~label.sk-toggleable__label-arrow:before {content: \"▾\";}#sk-container-id-1 div.sk-estimator input.sk-toggleable__control:checked~label.sk-toggleable__label {background-color: #d4ebff;}#sk-container-id-1 div.sk-label input.sk-toggleable__control:checked~label.sk-toggleable__label {background-color: #d4ebff;}#sk-container-id-1 input.sk-hidden--visually {border: 0;clip: rect(1px 1px 1px 1px);clip: rect(1px, 1px, 1px, 1px);height: 1px;margin: -1px;overflow: hidden;padding: 0;position: absolute;width: 1px;}#sk-container-id-1 div.sk-estimator {font-family: monospace;background-color: #f0f8ff;border: 1px dotted black;border-radius: 0.25em;box-sizing: border-box;margin-bottom: 0.5em;}#sk-container-id-1 div.sk-estimator:hover {background-color: #d4ebff;}#sk-container-id-1 div.sk-parallel-item::after {content: \"\";width: 100%;border-bottom: 1px solid gray;flex-grow: 1;}#sk-container-id-1 div.sk-label:hover label.sk-toggleable__label {background-color: #d4ebff;}#sk-container-id-1 div.sk-serial::before {content: \"\";position: absolute;border-left: 1px solid gray;box-sizing: border-box;top: 0;bottom: 0;left: 50%;z-index: 0;}#sk-container-id-1 div.sk-serial {display: flex;flex-direction: column;align-items: center;background-color: white;padding-right: 0.2em;padding-left: 0.2em;position: relative;}#sk-container-id-1 div.sk-item {position: relative;z-index: 1;}#sk-container-id-1 div.sk-parallel {display: flex;align-items: stretch;justify-content: center;background-color: white;position: relative;}#sk-container-id-1 div.sk-item::before, #sk-container-id-1 div.sk-parallel-item::before {content: \"\";position: absolute;border-left: 1px solid gray;box-sizing: border-box;top: 0;bottom: 0;left: 50%;z-index: -1;}#sk-container-id-1 div.sk-parallel-item {display: flex;flex-direction: column;z-index: 1;position: relative;background-color: white;}#sk-container-id-1 div.sk-parallel-item:first-child::after {align-self: flex-end;width: 50%;}#sk-container-id-1 div.sk-parallel-item:last-child::after {align-self: flex-start;width: 50%;}#sk-container-id-1 div.sk-parallel-item:only-child::after {width: 0;}#sk-container-id-1 div.sk-dashed-wrapped {border: 1px dashed gray;margin: 0 0.4em 0.5em 0.4em;box-sizing: border-box;padding-bottom: 0.4em;background-color: white;}#sk-container-id-1 div.sk-label label {font-family: monospace;font-weight: bold;display: inline-block;line-height: 1.2em;}#sk-container-id-1 div.sk-label-container {text-align: center;}#sk-container-id-1 div.sk-container {/* jupyter's `normalize.less` sets `[hidden] { display: none; }` but bootstrap.min.css set `[hidden] { display: none !important; }` so we also need the `!important` here to be able to override the default hidden behavior on the sphinx rendered scikit-learn.org. See: https://github.com/scikit-learn/scikit-learn/issues/21755 */display: inline-block !important;position: relative;}#sk-container-id-1 div.sk-text-repr-fallback {display: none;}</style><div id=\"sk-container-id-1\" class=\"sk-top-container\"><div class=\"sk-text-repr-fallback\"><pre>RandomForestClassifier()</pre><b>In a Jupyter environment, please rerun this cell to show the HTML representation or trust the notebook. <br />On GitHub, the HTML representation is unable to render, please try loading this page with nbviewer.org.</b></div><div class=\"sk-container\" hidden><div class=\"sk-item\"><div class=\"sk-estimator sk-toggleable\"><input class=\"sk-toggleable__control sk-hidden--visually\" id=\"sk-estimator-id-1\" type=\"checkbox\" checked><label for=\"sk-estimator-id-1\" class=\"sk-toggleable__label sk-toggleable__label-arrow\">RandomForestClassifier</label><div class=\"sk-toggleable__content\"><pre>RandomForestClassifier()</pre></div></div></div></div></div>"
            ]
          },
          "metadata": {},
          "execution_count": 8
        }
      ],
      "source": [
        "from sklearn.ensemble import RandomForestClassifier\n",
        "\n",
        "rf = RandomForestClassifier()\n",
        "\n",
        "rf.fit(X,y)"
      ]
    },
    {
      "cell_type": "code",
      "execution_count": null,
      "id": "e27797e8",
      "metadata": {
        "colab": {
          "base_uri": "https://localhost:8080/"
        },
        "id": "e27797e8",
        "outputId": "d442a3f2-e693-46ba-cfbf-67e6fe7e56f7"
      },
      "outputs": [
        {
          "output_type": "execute_result",
          "data": {
            "text/plain": [
              "array([0.00000000e+00, 0.00000000e+00, 0.00000000e+00, 0.00000000e+00,\n",
              "       0.00000000e+00, 0.00000000e+00, 0.00000000e+00, 0.00000000e+00,\n",
              "       0.00000000e+00, 0.00000000e+00, 0.00000000e+00, 0.00000000e+00,\n",
              "       0.00000000e+00, 4.41087995e-07, 0.00000000e+00, 0.00000000e+00,\n",
              "       0.00000000e+00, 0.00000000e+00, 0.00000000e+00, 0.00000000e+00,\n",
              "       0.00000000e+00, 0.00000000e+00, 0.00000000e+00, 0.00000000e+00,\n",
              "       0.00000000e+00, 0.00000000e+00, 0.00000000e+00, 0.00000000e+00,\n",
              "       0.00000000e+00, 0.00000000e+00, 0.00000000e+00, 0.00000000e+00,\n",
              "       0.00000000e+00, 0.00000000e+00, 0.00000000e+00, 1.86895176e-06,\n",
              "       4.49338860e-06, 3.97723527e-06, 3.05055780e-06, 9.59611110e-07,\n",
              "       0.00000000e+00, 3.51102031e-06, 3.90921159e-06, 2.08296064e-06,\n",
              "       2.37569458e-06, 1.91113561e-06, 5.13189828e-07, 0.00000000e+00,\n",
              "       4.23390456e-07, 3.96961504e-07, 0.00000000e+00, 0.00000000e+00,\n",
              "       0.00000000e+00, 0.00000000e+00, 0.00000000e+00, 0.00000000e+00,\n",
              "       0.00000000e+00, 0.00000000e+00, 0.00000000e+00, 5.27612115e-07,\n",
              "       9.31133152e-07, 0.00000000e+00, 2.48404842e-06, 2.80913318e-06,\n",
              "       2.05616195e-05, 1.61445459e-05, 7.94214488e-05, 7.19146507e-05,\n",
              "       2.59621050e-04, 9.95096175e-05, 1.06783402e-04, 1.22246068e-04,\n",
              "       2.14064070e-04, 1.82316900e-04, 1.44453162e-04, 4.46454416e-05,\n",
              "       4.36836221e-05, 1.07146471e-05, 1.28271081e-05, 4.81781948e-07,\n",
              "       0.00000000e+00, 0.00000000e+00, 0.00000000e+00, 0.00000000e+00,\n",
              "       0.00000000e+00, 0.00000000e+00, 0.00000000e+00, 0.00000000e+00,\n",
              "       4.72607380e-07, 2.50078413e-06, 8.75572851e-06, 4.18245454e-05,\n",
              "       7.07924912e-05, 1.26219612e-04, 1.43170850e-04, 5.15215870e-04,\n",
              "       5.83774122e-04, 7.85287722e-04, 1.36623758e-03, 2.19904631e-03,\n",
              "       2.54371800e-03, 1.53223443e-03, 1.19815571e-03, 7.37437781e-04,\n",
              "       4.63952628e-04, 1.72639957e-04, 8.52291134e-05, 2.92717787e-05,\n",
              "       1.29720272e-05, 2.47889773e-06, 1.47436360e-06, 0.00000000e+00,\n",
              "       0.00000000e+00, 0.00000000e+00, 0.00000000e+00, 1.51298617e-06,\n",
              "       4.17559986e-06, 1.80973253e-05, 4.25665583e-05, 8.62546178e-05,\n",
              "       1.43252236e-04, 3.56552324e-04, 8.05806853e-04, 1.06546166e-03,\n",
              "       1.92638573e-03, 1.73133710e-03, 2.25556925e-03, 1.92378332e-03,\n",
              "       1.55178104e-03, 9.60154212e-04, 7.62790851e-04, 4.98984966e-04,\n",
              "       4.18941734e-04, 2.30490004e-04, 1.57802757e-04, 7.85042418e-05,\n",
              "       3.18788678e-05, 9.26054267e-06, 8.96571825e-07, 0.00000000e+00,\n",
              "       0.00000000e+00, 0.00000000e+00, 0.00000000e+00, 1.29600028e-06,\n",
              "       1.39430207e-05, 4.27271955e-05, 1.43428742e-04, 2.29960156e-04,\n",
              "       5.66857843e-04, 8.74409523e-04, 1.45720290e-03, 2.07423261e-03,\n",
              "       3.91733104e-03, 5.07631577e-03, 5.87445971e-03, 6.14315338e-03,\n",
              "       5.40875436e-03, 3.75566627e-03, 1.89564669e-03, 1.60106277e-03,\n",
              "       7.80018174e-04, 7.49397543e-04, 5.57068814e-04, 2.62573946e-04,\n",
              "       6.65724650e-05, 2.53115874e-05, 4.93992629e-07, 0.00000000e+00,\n",
              "       0.00000000e+00, 0.00000000e+00, 9.02638289e-07, 9.39054217e-06,\n",
              "       2.38770010e-05, 1.07648516e-04, 2.45013689e-04, 5.60159126e-04,\n",
              "       1.07546846e-03, 1.86238144e-03, 2.39983572e-03, 2.67278243e-03,\n",
              "       2.86818902e-03, 3.22023609e-03, 4.09533088e-03, 3.66531550e-03,\n",
              "       3.37579298e-03, 2.30186682e-03, 1.72064610e-03, 1.52731621e-03,\n",
              "       1.48602397e-03, 1.24250353e-03, 1.11102380e-03, 8.34844958e-04,\n",
              "       3.77919374e-04, 6.50818640e-05, 1.06047110e-05, 5.29309055e-07,\n",
              "       0.00000000e+00, 0.00000000e+00, 3.21787070e-06, 9.34880018e-06,\n",
              "       7.00917505e-05, 1.70474287e-04, 3.29937503e-04, 5.97590673e-04,\n",
              "       1.15954844e-03, 1.77935130e-03, 2.45774259e-03, 2.07521732e-03,\n",
              "       2.71198993e-03, 4.37103719e-03, 5.64762505e-03, 6.99279833e-03,\n",
              "       4.45049091e-03, 3.21645356e-03, 2.12199432e-03, 2.31319650e-03,\n",
              "       1.61229917e-03, 1.32570031e-03, 1.28281077e-03, 1.52341306e-03,\n",
              "       7.20174842e-04, 7.26036664e-05, 8.94315076e-06, 0.00000000e+00,\n",
              "       4.51274487e-07, 6.17551362e-07, 4.49290542e-06, 1.74774299e-05,\n",
              "       8.87040273e-05, 1.86377658e-04, 3.06920564e-04, 7.98665080e-04,\n",
              "       1.39018908e-03, 1.53018894e-03, 2.24768957e-03, 2.95338839e-03,\n",
              "       2.74046653e-03, 4.45815421e-03, 5.13546356e-03, 4.81813744e-03,\n",
              "       4.35757404e-03, 3.38395484e-03, 2.73714836e-03, 3.14957614e-03,\n",
              "       2.87486762e-03, 1.68585043e-03, 1.13168961e-03, 1.37310696e-03,\n",
              "       5.84549013e-04, 1.05746209e-04, 2.83804241e-05, 6.61616061e-07,\n",
              "       0.00000000e+00, 9.64868294e-07, 8.97198480e-06, 2.97097296e-05,\n",
              "       2.14201837e-04, 4.62854891e-04, 6.09894175e-04, 7.01852503e-04,\n",
              "       1.29942563e-03, 2.26750419e-03, 3.44593434e-03, 6.17417806e-03,\n",
              "       3.10695436e-03, 3.28001219e-03, 3.71066104e-03, 4.05875420e-03,\n",
              "       3.25705362e-03, 3.67634647e-03, 5.07142118e-03, 4.33542923e-03,\n",
              "       2.61825440e-03, 1.88121774e-03, 1.00039239e-03, 6.56028932e-04,\n",
              "       4.29630485e-04, 1.34434193e-04, 2.05007299e-05, 0.00000000e+00,\n",
              "       0.00000000e+00, 0.00000000e+00, 5.59966917e-06, 3.59142641e-05,\n",
              "       1.50494281e-04, 2.38110927e-04, 4.38424527e-04, 1.16352456e-03,\n",
              "       1.84779598e-03, 2.80423804e-03, 7.63155545e-03, 5.35782394e-03,\n",
              "       3.16243008e-03, 3.05121052e-03, 3.10133134e-03, 3.81330980e-03,\n",
              "       3.53174644e-03, 4.04360976e-03, 3.97856754e-03, 2.77692156e-03,\n",
              "       2.87350419e-03, 1.66348949e-03, 9.53530834e-04, 5.77283851e-04,\n",
              "       2.24891741e-04, 4.97870912e-05, 1.08090002e-05, 1.70619040e-06,\n",
              "       0.00000000e+00, 0.00000000e+00, 8.44331885e-06, 2.62083257e-05,\n",
              "       1.03240766e-04, 1.88098394e-04, 5.88471218e-04, 1.32603316e-03,\n",
              "       2.02403298e-03, 4.60325306e-03, 3.25078882e-03, 4.55567133e-03,\n",
              "       3.44495538e-03, 3.05931988e-03, 4.61942967e-03, 5.37008730e-03,\n",
              "       3.06064303e-03, 3.06518567e-03, 3.89191250e-03, 3.05808353e-03,\n",
              "       2.31632410e-03, 1.63231092e-03, 1.38352618e-03, 6.49642723e-04,\n",
              "       1.15863507e-04, 2.56636933e-05, 3.24101695e-06, 4.87569676e-07,\n",
              "       0.00000000e+00, 1.46974892e-06, 5.14271059e-06, 1.83189082e-05,\n",
              "       8.20133107e-05, 2.39932721e-04, 8.16484087e-04, 1.74902385e-03,\n",
              "       2.86503653e-03, 5.09580352e-03, 4.74881447e-03, 6.17016176e-03,\n",
              "       3.65075672e-03, 4.78147629e-03, 1.03576827e-02, 5.56564145e-03,\n",
              "       4.34578087e-03, 4.35068894e-03, 4.04354649e-03, 2.63748003e-03,\n",
              "       1.53020237e-03, 2.13304493e-03, 2.83249790e-03, 8.52537771e-04,\n",
              "       1.24538909e-04, 1.78012195e-05, 6.57339507e-06, 1.53759950e-06,\n",
              "       0.00000000e+00, 0.00000000e+00, 2.63756288e-06, 1.99553447e-05,\n",
              "       1.11265166e-04, 3.59743303e-04, 1.16245826e-03, 1.52053189e-03,\n",
              "       3.00063753e-03, 3.94855382e-03, 6.36998773e-03, 6.59619047e-03,\n",
              "       4.80507363e-03, 6.61538667e-03, 8.90128549e-03, 4.50270967e-03,\n",
              "       4.31586266e-03, 6.55208727e-03, 2.97015385e-03, 1.57401336e-03,\n",
              "       1.23656472e-03, 1.57550045e-03, 3.97964236e-03, 5.04689145e-04,\n",
              "       1.52209339e-04, 2.46262455e-05, 1.27860324e-05, 0.00000000e+00,\n",
              "       0.00000000e+00, 0.00000000e+00, 0.00000000e+00, 1.12031826e-05,\n",
              "       7.39618141e-05, 3.68608414e-04, 8.17087347e-04, 1.88447789e-03,\n",
              "       3.40022222e-03, 5.05540464e-03, 5.19421809e-03, 4.64481190e-03,\n",
              "       4.80643667e-03, 8.03482736e-03, 6.31483850e-03, 3.52607717e-03,\n",
              "       4.18888927e-03, 7.06467970e-03, 3.16929110e-03, 1.63168192e-03,\n",
              "       1.48193006e-03, 1.06099168e-03, 2.30282201e-03, 8.77878299e-04,\n",
              "       1.89126249e-04, 3.18133056e-05, 1.49653867e-05, 1.96576744e-06,\n",
              "       0.00000000e+00, 0.00000000e+00, 2.77741838e-06, 2.37035282e-05,\n",
              "       9.31718340e-05, 3.77059054e-04, 1.27690678e-03, 2.75782817e-03,\n",
              "       4.05417958e-03, 3.57884226e-03, 6.41139647e-03, 3.79631905e-03,\n",
              "       5.18749597e-03, 7.49720388e-03, 5.64966279e-03, 3.97665243e-03,\n",
              "       3.58717173e-03, 6.48435434e-03, 2.48571567e-03, 1.93899682e-03,\n",
              "       1.25060658e-03, 1.58427369e-03, 1.52862440e-03, 8.20466559e-04,\n",
              "       1.50857982e-04, 3.64218807e-05, 1.24199403e-05, 0.00000000e+00,\n",
              "       0.00000000e+00, 0.00000000e+00, 1.52336841e-06, 2.82567023e-05,\n",
              "       8.36217171e-05, 3.96691673e-04, 1.65363401e-03, 2.74881281e-03,\n",
              "       3.90864488e-03, 5.41252237e-03, 4.15006562e-03, 5.03373517e-03,\n",
              "       6.34086979e-03, 6.48106544e-03, 7.95750211e-03, 3.37276938e-03,\n",
              "       3.63054402e-03, 3.80734813e-03, 2.21264503e-03, 2.44236651e-03,\n",
              "       1.64455160e-03, 1.65203477e-03, 6.67054883e-04, 2.90465337e-04,\n",
              "       1.50917519e-04, 6.23562635e-05, 1.42660204e-05, 5.99695412e-06,\n",
              "       0.00000000e+00, 0.00000000e+00, 4.63113952e-06, 3.88824476e-05,\n",
              "       1.37300212e-04, 7.19671229e-04, 1.00079163e-03, 2.85037513e-03,\n",
              "       2.98803220e-03, 4.23671834e-03, 4.34222110e-03, 5.77522089e-03,\n",
              "       5.74196991e-03, 7.57959035e-03, 3.91125952e-03, 2.10643917e-03,\n",
              "       2.24040129e-03, 1.91327705e-03, 2.89793154e-03, 2.43635529e-03,\n",
              "       1.68340769e-03, 1.38766094e-03, 6.50768770e-04, 4.34390024e-04,\n",
              "       2.35304310e-04, 4.98246082e-05, 1.05684756e-05, 3.23638784e-06,\n",
              "       1.48559675e-06, 0.00000000e+00, 9.69510868e-06, 6.24494177e-05,\n",
              "       1.18987871e-04, 4.49372501e-04, 1.09714589e-03, 1.94767403e-03,\n",
              "       1.76606657e-03, 3.66080455e-03, 6.64706092e-03, 6.32840860e-03,\n",
              "       4.60235585e-03, 3.98837245e-03, 2.55664143e-03, 1.81487995e-03,\n",
              "       1.34186649e-03, 2.38780866e-03, 2.54680354e-03, 2.42657544e-03,\n",
              "       1.36032633e-03, 7.47782040e-04, 5.68187639e-04, 3.46945932e-04,\n",
              "       1.62640574e-04, 4.00223958e-05, 2.63237044e-05, 5.13366559e-07,\n",
              "       0.00000000e+00, 0.00000000e+00, 6.87977782e-06, 7.27205727e-05,\n",
              "       2.58022435e-04, 5.10934193e-04, 2.19837198e-03, 3.12280769e-03,\n",
              "       3.74468508e-03, 5.02245417e-03, 6.14307190e-03, 5.19243350e-03,\n",
              "       3.61269103e-03, 2.88558643e-03, 2.02964300e-03, 1.76201879e-03,\n",
              "       1.17920115e-03, 2.55279130e-03, 3.18495435e-03, 2.10903714e-03,\n",
              "       1.16924369e-03, 9.56803855e-04, 6.36372552e-04, 4.08703447e-04,\n",
              "       1.58855628e-04, 2.86568683e-05, 1.24990218e-05, 4.70459349e-07,\n",
              "       0.00000000e+00, 0.00000000e+00, 6.99065065e-06, 5.46541782e-05,\n",
              "       2.20843657e-04, 6.29584500e-04, 1.63951453e-03, 3.50404939e-03,\n",
              "       3.53278845e-03, 6.35963509e-03, 3.88337251e-03, 3.29559854e-03,\n",
              "       3.03177111e-03, 1.95922548e-03, 2.08587818e-03, 1.69986728e-03,\n",
              "       1.74665072e-03, 2.18090022e-03, 1.81765537e-03, 2.01809603e-03,\n",
              "       1.61382880e-03, 8.37530423e-04, 8.45576889e-04, 3.17075920e-04,\n",
              "       1.36472808e-04, 2.82115725e-05, 4.33854403e-06, 0.00000000e+00,\n",
              "       0.00000000e+00, 0.00000000e+00, 7.55334033e-06, 6.17481552e-05,\n",
              "       1.70637629e-04, 6.21992929e-04, 1.00384981e-03, 2.53558074e-03,\n",
              "       4.75886703e-03, 4.67097132e-03, 2.28539565e-03, 2.04534152e-03,\n",
              "       1.62209669e-03, 1.48995462e-03, 1.31393937e-03, 1.17668581e-03,\n",
              "       1.17234932e-03, 1.47047266e-03, 1.44447790e-03, 1.25876659e-03,\n",
              "       8.45089266e-04, 5.03853994e-04, 2.26765558e-04, 1.70288649e-04,\n",
              "       6.26887549e-05, 1.28534356e-05, 3.66653038e-06, 0.00000000e+00,\n",
              "       0.00000000e+00, 0.00000000e+00, 1.75054939e-06, 4.33869129e-05,\n",
              "       1.25736248e-04, 2.78647759e-04, 8.79688293e-04, 2.09520855e-03,\n",
              "       2.26980785e-03, 2.63238915e-03, 3.37147368e-03, 1.94158783e-03,\n",
              "       1.81256864e-03, 1.91306650e-03, 1.58761729e-03, 1.58300879e-03,\n",
              "       1.35477375e-03, 1.01828206e-03, 8.82281286e-04, 6.61519654e-04,\n",
              "       4.40671668e-04, 2.54040147e-04, 1.44179174e-04, 5.53623528e-05,\n",
              "       1.80558637e-05, 9.02295168e-06, 2.98731407e-06, 0.00000000e+00,\n",
              "       0.00000000e+00, 0.00000000e+00, 2.32639080e-06, 1.49173124e-05,\n",
              "       7.30123330e-05, 1.26965942e-04, 3.26895995e-04, 8.28141531e-04,\n",
              "       1.39573129e-03, 2.12757508e-03, 3.02770420e-03, 3.63110450e-03,\n",
              "       5.18061627e-03, 4.50003236e-03, 3.66023866e-03, 2.61488324e-03,\n",
              "       1.93870936e-03, 1.08155683e-03, 5.99253953e-04, 3.75777458e-04,\n",
              "       2.57084833e-04, 1.23680316e-04, 8.74721540e-05, 2.47219127e-05,\n",
              "       1.51264336e-05, 2.29510471e-06, 1.73571343e-06, 0.00000000e+00,\n",
              "       0.00000000e+00, 0.00000000e+00, 1.36965007e-06, 1.54619710e-05,\n",
              "       4.17570784e-05, 1.04065904e-04, 2.58931044e-04, 4.62568638e-04,\n",
              "       5.78641811e-04, 8.81265229e-04, 8.91266302e-04, 1.31582470e-03,\n",
              "       1.85847353e-03, 1.80213450e-03, 1.10785324e-03, 8.66078990e-04,\n",
              "       5.72806238e-04, 3.69518725e-04, 3.09162933e-04, 2.64259772e-04,\n",
              "       1.70952645e-04, 7.55142423e-05, 6.15871537e-05, 1.85295128e-05,\n",
              "       5.70337826e-06, 1.93121359e-06, 0.00000000e+00, 0.00000000e+00,\n",
              "       0.00000000e+00, 0.00000000e+00, 5.25170463e-07, 3.91500178e-06,\n",
              "       2.57793347e-05, 4.20324695e-05, 9.03185840e-05, 2.12448948e-04,\n",
              "       3.84372003e-04, 7.27729242e-04, 7.77232588e-04, 1.00905685e-03,\n",
              "       9.91805735e-04, 5.49832881e-04, 4.94358044e-04, 4.57465983e-04,\n",
              "       6.05095847e-04, 3.14055615e-04, 3.04885469e-04, 1.36782826e-04,\n",
              "       1.05601011e-04, 3.57159510e-05, 2.57479737e-05, 4.04578939e-06,\n",
              "       4.54635130e-06, 5.08178029e-07, 0.00000000e+00, 0.00000000e+00,\n",
              "       0.00000000e+00, 0.00000000e+00, 0.00000000e+00, 0.00000000e+00,\n",
              "       3.66558770e-06, 1.06612992e-05, 3.00418646e-05, 3.20340385e-05,\n",
              "       3.95500391e-05, 1.84972171e-04, 9.79459797e-05, 1.25444138e-04,\n",
              "       3.83727461e-04, 1.11439967e-04, 2.13575270e-04, 1.86432519e-04,\n",
              "       1.18626268e-04, 1.56101933e-04, 6.22044448e-05, 3.33785990e-05,\n",
              "       1.11034084e-05, 1.75091392e-05, 4.89413540e-06, 1.01198691e-06,\n",
              "       0.00000000e+00, 0.00000000e+00, 0.00000000e+00, 0.00000000e+00,\n",
              "       0.00000000e+00, 0.00000000e+00, 0.00000000e+00, 0.00000000e+00,\n",
              "       0.00000000e+00, 4.63197653e-07, 0.00000000e+00, 0.00000000e+00,\n",
              "       1.70975051e-06, 4.87469200e-06, 5.32965869e-06, 7.10278230e-06,\n",
              "       8.65359096e-07, 3.01637389e-06, 5.24285323e-06, 2.09612379e-06,\n",
              "       7.06842492e-06, 5.24714906e-06, 6.94762327e-06, 5.72396177e-06,\n",
              "       0.00000000e+00, 4.45058547e-07, 5.18341055e-07, 0.00000000e+00,\n",
              "       0.00000000e+00, 0.00000000e+00, 0.00000000e+00, 0.00000000e+00])"
            ]
          },
          "metadata": {},
          "execution_count": 9
        }
      ],
      "source": [
        "rf.feature_importances_"
      ]
    },
    {
      "cell_type": "code",
      "execution_count": null,
      "id": "83fe2092",
      "metadata": {
        "colab": {
          "base_uri": "https://localhost:8080/"
        },
        "id": "83fe2092",
        "outputId": "a991fe63-885b-4114-e716-0a9e9ea2d3a6"
      },
      "outputs": [
        {
          "output_type": "execute_result",
          "data": {
            "text/plain": [
              "(784,)"
            ]
          },
          "metadata": {},
          "execution_count": 10
        }
      ],
      "source": [
        "rf.feature_importances_.shape"
      ]
    },
    {
      "cell_type": "code",
      "execution_count": null,
      "id": "25abe08d",
      "metadata": {
        "colab": {
          "base_uri": "https://localhost:8080/",
          "height": 282
        },
        "id": "25abe08d",
        "outputId": "2bbd6544-2ef1-45a8-dbb8-76c968d1f06e"
      },
      "outputs": [
        {
          "output_type": "execute_result",
          "data": {
            "text/plain": [
              "<AxesSubplot:>"
            ]
          },
          "metadata": {},
          "execution_count": 11
        },
        {
          "output_type": "display_data",
          "data": {
            "text/plain": [
              "<Figure size 432x288 with 2 Axes>"
            ],
            "image/png": "[encoded data removed]"
          },
          "metadata": {
            "needs_background": "light"
          }
        }
      ],
      "source": [
        "sns.heatmap(rf.feature_importances_.reshape(28,28))"
      ]
    },
    {
      "cell_type": "markdown",
      "source": [
        "## **How feature importance is calculated**"
      ],
      "metadata": {
        "id": "dq2fVgw5m5EF"
      },
      "id": "dq2fVgw5m5EF"
    },
    {
      "cell_type": "code",
      "execution_count": null,
      "id": "5236a1a6",
      "metadata": {
        "id": "5236a1a6"
      },
      "outputs": [],
      "source": [
        "from sklearn.datasets import make_classification\n",
        "from sklearn.tree import DecisionTreeClassifier"
      ]
    },
    {
      "cell_type": "code",
      "source": [
        "X,y = make_classification(n_samples=5, n_classes=2,\n",
        "                               n_features=2, n_informative=2, n_redundant=0,\n",
        "                               random_state=0)"
      ],
      "metadata": {
        "id": "PRSHiy2dnA17"
      },
      "id": "PRSHiy2dnA17",
      "execution_count": null,
      "outputs": []
    },
    {
      "cell_type": "code",
      "source": [
        "clf = DecisionTreeClassifier()\n",
        "clf.fit(X,y)\n",
        "from sklearn.tree import plot_tree\n",
        "plot_tree(clf)\n",
        "\n",
        "  "
      ],
      "metadata": {
        "colab": {
          "base_uri": "https://localhost:8080/",
          "height": 335
        },
        "id": "gp4omjcenCGK",
        "outputId": "a93b6eba-96d3-420b-cfe7-c4dc651ac223"
      },
      "id": "gp4omjcenCGK",
      "execution_count": null,
      "outputs": [
        {
          "output_type": "execute_result",
          "data": {
            "text/plain": [
              "[Text(0.4, 0.8333333333333334, 'x[1] <= -0.894\\ngini = 0.48\\nsamples = 5\\nvalue = [3, 2]'),\n",
              " Text(0.2, 0.5, 'gini = 0.0\\nsamples = 1\\nvalue = [0, 1]'),\n",
              " Text(0.6, 0.5, 'x[0] <= 1.01\\ngini = 0.375\\nsamples = 4\\nvalue = [3, 1]'),\n",
              " Text(0.4, 0.16666666666666666, 'gini = 0.0\\nsamples = 3\\nvalue = [3, 0]'),\n",
              " Text(0.8, 0.16666666666666666, 'gini = 0.0\\nsamples = 1\\nvalue = [0, 1]')]"
            ]
          },
          "metadata": {},
          "execution_count": 14
        },
        {
          "output_type": "display_data",
          "data": {
            "text/plain": [
              "<Figure size 432x288 with 1 Axes>"
            ],
            "image/png": "[encoded data removed]"
          },
          "metadata": {
            "needs_background": "light"
          }
        }
      ]
    },
    {
      "cell_type": "code",
      "source": [
        "clf.feature_importances_"
      ],
      "metadata": {
        "colab": {
          "base_uri": "https://localhost:8080/"
        },
        "id": "NsfsT4K0nGFw",
        "outputId": "305302aa-0128-4b4f-ea20-7e420c7dde8e"
      },
      "id": "NsfsT4K0nGFw",
      "execution_count": null,
      "outputs": [
        {
          "output_type": "execute_result",
          "data": {
            "text/plain": [
              "array([0.625, 0.375])"
            ]
          },
          "metadata": {},
          "execution_count": 15
        }
      ]
    },
    {
      "cell_type": "code",
      "source": [
        "from sklearn.ensemble import RandomForestClassifier\n",
        "rf = RandomForestClassifier(n_estimators=2)\n",
        "rf.fit(X,y)"
      ],
      "metadata": {
        "colab": {
          "base_uri": "https://localhost:8080/",
          "height": 75
        },
        "id": "9HZm7h9wnIKc",
        "outputId": "683308ae-6ae3-4d00-e7e5-aff7ca8f9186"
      },
      "id": "9HZm7h9wnIKc",
      "execution_count": null,
      "outputs": [
        {
          "output_type": "execute_result",
          "data": {
            "text/plain": [
              "RandomForestClassifier(n_estimators=2)"
            ],
            "text/html": [
              "<style>#sk-container-id-2 {color: black;background-color: white;}#sk-container-id-2 pre{padding: 0;}#sk-container-id-2 div.sk-toggleable {background-color: white;}#sk-container-id-2 label.sk-toggleable__label {cursor: pointer;display: block;width: 100%;margin-bottom: 0;padding: 0.3em;box-sizing: border-box;text-align: center;}#sk-container-id-2 label.sk-toggleable__label-arrow:before {content: \"▸\";float: left;margin-right: 0.25em;color: #696969;}#sk-container-id-2 label.sk-toggleable__label-arrow:hover:before {color: black;}#sk-container-id-2 div.sk-estimator:hover label.sk-toggleable__label-arrow:before {color: black;}#sk-container-id-2 div.sk-toggleable__content {max-height: 0;max-width: 0;overflow: hidden;text-align: left;background-color: #f0f8ff;}#sk-container-id-2 div.sk-toggleable__content pre {margin: 0.2em;color: black;border-radius: 0.25em;background-color: #f0f8ff;}#sk-container-id-2 input.sk-toggleable__control:checked~div.sk-toggleable__content {max-height: 200px;max-width: 100%;overflow: auto;}#sk-container-id-2 input.sk-toggleable__control:checked~label.sk-toggleable__label-arrow:before {content: \"▾\";}#sk-container-id-2 div.sk-estimator input.sk-toggleable__control:checked~label.sk-toggleable__label {background-color: #d4ebff;}#sk-container-id-2 div.sk-label input.sk-toggleable__control:checked~label.sk-toggleable__label {background-color: #d4ebff;}#sk-container-id-2 input.sk-hidden--visually {border: 0;clip: rect(1px 1px 1px 1px);clip: rect(1px, 1px, 1px, 1px);height: 1px;margin: -1px;overflow: hidden;padding: 0;position: absolute;width: 1px;}#sk-container-id-2 div.sk-estimator {font-family: monospace;background-color: #f0f8ff;border: 1px dotted black;border-radius: 0.25em;box-sizing: border-box;margin-bottom: 0.5em;}#sk-container-id-2 div.sk-estimator:hover {background-color: #d4ebff;}#sk-container-id-2 div.sk-parallel-item::after {content: \"\";width: 100%;border-bottom: 1px solid gray;flex-grow: 1;}#sk-container-id-2 div.sk-label:hover label.sk-toggleable__label {background-color: #d4ebff;}#sk-container-id-2 div.sk-serial::before {content: \"\";position: absolute;border-left: 1px solid gray;box-sizing: border-box;top: 0;bottom: 0;left: 50%;z-index: 0;}#sk-container-id-2 div.sk-serial {display: flex;flex-direction: column;align-items: center;background-color: white;padding-right: 0.2em;padding-left: 0.2em;position: relative;}#sk-container-id-2 div.sk-item {position: relative;z-index: 1;}#sk-container-id-2 div.sk-parallel {display: flex;align-items: stretch;justify-content: center;background-color: white;position: relative;}#sk-container-id-2 div.sk-item::before, #sk-container-id-2 div.sk-parallel-item::before {content: \"\";position: absolute;border-left: 1px solid gray;box-sizing: border-box;top: 0;bottom: 0;left: 50%;z-index: -1;}#sk-container-id-2 div.sk-parallel-item {display: flex;flex-direction: column;z-index: 1;position: relative;background-color: white;}#sk-container-id-2 div.sk-parallel-item:first-child::after {align-self: flex-end;width: 50%;}#sk-container-id-2 div.sk-parallel-item:last-child::after {align-self: flex-start;width: 50%;}#sk-container-id-2 div.sk-parallel-item:only-child::after {width: 0;}#sk-container-id-2 div.sk-dashed-wrapped {border: 1px dashed gray;margin: 0 0.4em 0.5em 0.4em;box-sizing: border-box;padding-bottom: 0.4em;background-color: white;}#sk-container-id-2 div.sk-label label {font-family: monospace;font-weight: bold;display: inline-block;line-height: 1.2em;}#sk-container-id-2 div.sk-label-container {text-align: center;}#sk-container-id-2 div.sk-container {/* jupyter's `normalize.less` sets `[hidden] { display: none; }` but bootstrap.min.css set `[hidden] { display: none !important; }` so we also need the `!important` here to be able to override the default hidden behavior on the sphinx rendered scikit-learn.org. See: https://github.com/scikit-learn/scikit-learn/issues/21755 */display: inline-block !important;position: relative;}#sk-container-id-2 div.sk-text-repr-fallback {display: none;}</style><div id=\"sk-container-id-2\" class=\"sk-top-container\"><div class=\"sk-text-repr-fallback\"><pre>RandomForestClassifier(n_estimators=2)</pre><b>In a Jupyter environment, please rerun this cell to show the HTML representation or trust the notebook. <br />On GitHub, the HTML representation is unable to render, please try loading this page with nbviewer.org.</b></div><div class=\"sk-container\" hidden><div class=\"sk-item\"><div class=\"sk-estimator sk-toggleable\"><input class=\"sk-toggleable__control sk-hidden--visually\" id=\"sk-estimator-id-2\" type=\"checkbox\" checked><label for=\"sk-estimator-id-2\" class=\"sk-toggleable__label sk-toggleable__label-arrow\">RandomForestClassifier</label><div class=\"sk-toggleable__content\"><pre>RandomForestClassifier(n_estimators=2)</pre></div></div></div></div></div>"
            ]
          },
          "metadata": {},
          "execution_count": 16
        }
      ]
    },
    {
      "cell_type": "code",
      "source": [
        "rf.feature_importances_"
      ],
      "metadata": {
        "colab": {
          "base_uri": "https://localhost:8080/"
        },
        "id": "lpyQXvW9nKdb",
        "outputId": "bb1371bc-5586-4d5d-e121-3e058a6c0306"
      },
      "id": "lpyQXvW9nKdb",
      "execution_count": null,
      "outputs": [
        {
          "output_type": "execute_result",
          "data": {
            "text/plain": [
              "array([0.39583333, 0.60416667])"
            ]
          },
          "metadata": {},
          "execution_count": 17
        }
      ]
    },
    {
      "cell_type": "code",
      "source": [
        "print(rf.estimators_[0].feature_importances_)\n",
        "print(rf.estimators_[1].feature_importances_)"
      ],
      "metadata": {
        "colab": {
          "base_uri": "https://localhost:8080/"
        },
        "id": "aYcJuT-OnL7D",
        "outputId": "bee9348c-cef0-45c6-fa48-c44e49b8da03"
      },
      "id": "aYcJuT-OnL7D",
      "execution_count": null,
      "outputs": [
        {
          "output_type": "stream",
          "name": "stdout",
          "text": [
            "[0. 1.]\n",
            "[0.79166667 0.20833333]\n"
          ]
        }
      ]
    },
    {
      "cell_type": "code",
      "source": [
        "X,y = make_classification(n_samples=15, n_classes=2,\n",
        "                               n_features=2, n_informative=2, n_redundant=0,\n",
        "                               random_state=0)"
      ],
      "metadata": {
        "id": "8nChVrXKnNJb"
      },
      "id": "8nChVrXKnNJb",
      "execution_count": null,
      "outputs": []
    },
    {
      "cell_type": "code",
      "source": [
        "from sklearn.tree import DecisionTreeClassifier"
      ],
      "metadata": {
        "id": "CF2fJdQ9nQJS"
      },
      "id": "CF2fJdQ9nQJS",
      "execution_count": null,
      "outputs": []
    },
    {
      "cell_type": "code",
      "source": [
        "clf = DecisionTreeClassifier()  \n",
        "clf.fit(X,y)\n",
        "from sklearn.tree import plot_tree\n",
        "plot_tree(clf)"
      ],
      "metadata": {
        "colab": {
          "base_uri": "https://localhost:8080/",
          "height": 370
        },
        "id": "vwfsdEPKnRih",
        "outputId": "38824217-1caf-49d4-8a2f-93fcab59c1f2"
      },
      "id": "vwfsdEPKnRih",
      "execution_count": null,
      "outputs": [
        {
          "output_type": "execute_result",
          "data": {
            "text/plain": [
              "[Text(0.3333333333333333, 0.875, 'x[1] <= -0.383\\ngini = 0.498\\nsamples = 15\\nvalue = [8, 7]'),\n",
              " Text(0.16666666666666666, 0.625, 'gini = 0.0\\nsamples = 6\\nvalue = [6, 0]'),\n",
              " Text(0.5, 0.625, 'x[0] <= 0.878\\ngini = 0.346\\nsamples = 9\\nvalue = [2, 7]'),\n",
              " Text(0.3333333333333333, 0.375, 'gini = 0.0\\nsamples = 6\\nvalue = [0, 6]'),\n",
              " Text(0.6666666666666666, 0.375, 'x[0] <= 2.444\\ngini = 0.444\\nsamples = 3\\nvalue = [2, 1]'),\n",
              " Text(0.5, 0.125, 'gini = 0.0\\nsamples = 2\\nvalue = [2, 0]'),\n",
              " Text(0.8333333333333334, 0.125, 'gini = 0.0\\nsamples = 1\\nvalue = [0, 1]')]"
            ]
          },
          "metadata": {},
          "execution_count": 21
        },
        {
          "output_type": "display_data",
          "data": {
            "text/plain": [
              "<Figure size 432x288 with 1 Axes>"
            ],
            "image/png": "[encoded data removed]"
          },
          "metadata": {
            "needs_background": "light"
          }
        }
      ]
    },
    {
      "cell_type": "code",
      "source": [
        "\n",
        "clf.feature_importances_"
      ],
      "metadata": {
        "colab": {
          "base_uri": "https://localhost:8080/"
        },
        "id": "EK4GV2pmnVHZ",
        "outputId": "1c8b669c-762b-4e7c-f58e-f215c7b57322"
      },
      "id": "EK4GV2pmnVHZ",
      "execution_count": null,
      "outputs": [
        {
          "output_type": "execute_result",
          "data": {
            "text/plain": [
              "array([0.41666667, 0.58333333])"
            ]
          },
          "metadata": {},
          "execution_count": 22
        }
      ]
    },
    {
      "cell_type": "code",
      "source": [],
      "metadata": {
        "id": "bQ1B3UFQnW1k"
      },
      "id": "bQ1B3UFQnW1k",
      "execution_count": null,
      "outputs": []
    }
  ],
  "metadata": {
    "kernelspec": {
      "display_name": "Python 3",
      "language": "python",
      "name": "python3"
    },
    "language_info": {
      "codemirror_mode": {
        "name": "ipython",
        "version": 3
      },
      "file_extension": ".py",
      "mimetype": "text/x-python",
      "name": "python",
      "nbconvert_exporter": "python",
      "pygments_lexer": "ipython3",
      "version": "3.8.8"
    },
    "colab": {
      "provenance": []
    }
  },
  "nbformat": 4,
  "nbformat_minor": 5
}