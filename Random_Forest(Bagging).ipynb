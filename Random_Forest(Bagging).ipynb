{
  "nbformat": 4,
  "nbformat_minor": 0,
  "metadata": {
    "colab": {
      "provenance": []
    },
    "kernelspec": {
      "name": "python3",
      "display_name": "Python 3"
    }
  },
  "cells": [
    {
      "cell_type": "code",
      "metadata": {
        "id": "Pt3njPwTYgw3"
      },
      "source": [
        "import numpy as np\n",
        "import pandas as pd\n",
        "from sklearn.datasets import make_classification\n",
        "import random\n",
        "import warnings\n",
        "warnings.simplefilter(\"ignore\")\n"
      ],
      "execution_count": null,
      "outputs": []
    },
    {
      "cell_type": "code",
      "metadata": {
        "id": "7BsWDgjaYncT"
      },
      "source": [
        "X,y = make_classification(n_features=5, n_redundant=0, n_informative=5,n_clusters_per_class=1)"
      ],
      "execution_count": null,
      "outputs": []
    },
    {
      "cell_type": "code",
      "metadata": {
        "colab": {
          "base_uri": "https://localhost:8080/",
          "height": 224
        },
        "id": "OksCU9vaY5-L",
        "outputId": "0f64d5c8-27c8-4d59-f446-2cc8c6666110"
      },
      "source": [
        "df = pd.DataFrame(X,columns=['col1','col2','col3','col4','col5'])\n",
        "df['target'] = y\n",
        "print(df.shape)\n",
        "df.head()"
      ],
      "execution_count": null,
      "outputs": [
        {
          "output_type": "stream",
          "name": "stdout",
          "text": [
            "(100, 6)\n"
          ]
        },
        {
          "output_type": "execute_result",
          "data": {
            "text/plain": [
              "       col1      col2      col3      col4      col5  target\n",
              "0  2.859146  3.480398 -2.882182 -0.347813  0.770659       1\n",
              "1  1.555192  1.613568 -1.583097  1.101079  0.344955       1\n",
              "2  1.116929  0.641166 -1.338132  1.538477 -0.728124       1\n",
              "3  1.154583  2.839022 -2.138209 -0.039862 -0.250081       1\n",
              "4 -0.172723  0.417434 -0.150303  3.234401  1.479277       0"
            ],
            "text/html": [
              "\n",
              "  <div id=\"df-2a585d15-ec2f-4f77-8dea-76c70122b312\">\n",
              "    <div class=\"colab-df-container\">\n",
              "      <div>\n",
              "<style scoped>\n",
              "    .dataframe tbody tr th:only-of-type {\n",
              "        vertical-align: middle;\n",
              "    }\n",
              "\n",
              "    .dataframe tbody tr th {\n",
              "        vertical-align: top;\n",
              "    }\n",
              "\n",
              "    .dataframe thead th {\n",
              "        text-align: right;\n",
              "    }\n",
              "</style>\n",
              "<table border=\"1\" class=\"dataframe\">\n",
              "  <thead>\n",
              "    <tr style=\"text-align: right;\">\n",
              "      <th></th>\n",
              "      <th>col1</th>\n",
              "      <th>col2</th>\n",
              "      <th>col3</th>\n",
              "      <th>col4</th>\n",
              "      <th>col5</th>\n",
              "      <th>target</th>\n",
              "    </tr>\n",
              "  </thead>\n",
              "  <tbody>\n",
              "    <tr>\n",
              "      <th>0</th>\n",
              "      <td>2.859146</td>\n",
              "      <td>3.480398</td>\n",
              "      <td>-2.882182</td>\n",
              "      <td>-0.347813</td>\n",
              "      <td>0.770659</td>\n",
              "      <td>1</td>\n",
              "    </tr>\n",
              "    <tr>\n",
              "      <th>1</th>\n",
              "      <td>1.555192</td>\n",
              "      <td>1.613568</td>\n",
              "      <td>-1.583097</td>\n",
              "      <td>1.101079</td>\n",
              "      <td>0.344955</td>\n",
              "      <td>1</td>\n",
              "    </tr>\n",
              "    <tr>\n",
              "      <th>2</th>\n",
              "      <td>1.116929</td>\n",
              "      <td>0.641166</td>\n",
              "      <td>-1.338132</td>\n",
              "      <td>1.538477</td>\n",
              "      <td>-0.728124</td>\n",
              "      <td>1</td>\n",
              "    </tr>\n",
              "    <tr>\n",
              "      <th>3</th>\n",
              "      <td>1.154583</td>\n",
              "      <td>2.839022</td>\n",
              "      <td>-2.138209</td>\n",
              "      <td>-0.039862</td>\n",
              "      <td>-0.250081</td>\n",
              "      <td>1</td>\n",
              "    </tr>\n",
              "    <tr>\n",
              "      <th>4</th>\n",
              "      <td>-0.172723</td>\n",
              "      <td>0.417434</td>\n",
              "      <td>-0.150303</td>\n",
              "      <td>3.234401</td>\n",
              "      <td>1.479277</td>\n",
              "      <td>0</td>\n",
              "    </tr>\n",
              "  </tbody>\n",
              "</table>\n",
              "</div>\n",
              "      <button class=\"colab-df-convert\" onclick=\"convertToInteractive('df-2a585d15-ec2f-4f77-8dea-76c70122b312')\"\n",
              "              title=\"Convert this dataframe to an interactive table.\"\n",
              "              style=\"display:none;\">\n",
              "        \n",
              "  <svg xmlns=\"http://www.w3.org/2000/svg\" height=\"24px\"viewBox=\"0 0 24 24\"\n",
              "       width=\"24px\">\n",
              "    <path d=\"M0 0h24v24H0V0z\" fill=\"none\"/>\n",
              "    <path d=\"M18.56 5.44l.94 2.06.94-2.06 2.06-.94-2.06-.94-.94-2.06-.94 2.06-2.06.94zm-11 1L8.5 8.5l.94-2.06 2.06-.94-2.06-.94L8.5 2.5l-.94 2.06-2.06.94zm10 10l.94 2.06.94-2.06 2.06-.94-2.06-.94-.94-2.06-.94 2.06-2.06.94z\"/><path d=\"M17.41 7.96l-1.37-1.37c-.4-.4-.92-.59-1.43-.59-.52 0-1.04.2-1.43.59L10.3 9.45l-7.72 7.72c-.78.78-.78 2.05 0 2.83L4 21.41c.39.39.9.59 1.41.59.51 0 1.02-.2 1.41-.59l7.78-7.78 2.81-2.81c.8-.78.8-2.07 0-2.86zM5.41 20L4 18.59l7.72-7.72 1.47 1.35L5.41 20z\"/>\n",
              "  </svg>\n",
              "      </button>\n",
              "      \n",
              "  <style>\n",
              "    .colab-df-container {\n",
              "      display:flex;\n",
              "      flex-wrap:wrap;\n",
              "      gap: 12px;\n",
              "    }\n",
              "\n",
              "    .colab-df-convert {\n",
              "      background-color: #E8F0FE;\n",
              "      border: none;\n",
              "      border-radius: 50%;\n",
              "      cursor: pointer;\n",
              "      display: none;\n",
              "      fill: #1967D2;\n",
              "      height: 32px;\n",
              "      padding: 0 0 0 0;\n",
              "      width: 32px;\n",
              "    }\n",
              "\n",
              "    .colab-df-convert:hover {\n",
              "      background-color: #E2EBFA;\n",
              "      box-shadow: 0px 1px 2px rgba(60, 64, 67, 0.3), 0px 1px 3px 1px rgba(60, 64, 67, 0.15);\n",
              "      fill: #174EA6;\n",
              "    }\n",
              "\n",
              "    [theme=dark] .colab-df-convert {\n",
              "      background-color: #3B4455;\n",
              "      fill: #D2E3FC;\n",
              "    }\n",
              "\n",
              "    [theme=dark] .colab-df-convert:hover {\n",
              "      background-color: #434B5C;\n",
              "      box-shadow: 0px 1px 3px 1px rgba(0, 0, 0, 0.15);\n",
              "      filter: drop-shadow(0px 1px 2px rgba(0, 0, 0, 0.3));\n",
              "      fill: #FFFFFF;\n",
              "    }\n",
              "  </style>\n",
              "\n",
              "      <script>\n",
              "        const buttonEl =\n",
              "          document.querySelector('#df-2a585d15-ec2f-4f77-8dea-76c70122b312 button.colab-df-convert');\n",
              "        buttonEl.style.display =\n",
              "          google.colab.kernel.accessAllowed ? 'block' : 'none';\n",
              "\n",
              "        async function convertToInteractive(key) {\n",
              "          const element = document.querySelector('#df-2a585d15-ec2f-4f77-8dea-76c70122b312');\n",
              "          const dataTable =\n",
              "            await google.colab.kernel.invokeFunction('convertToInteractive',\n",
              "                                                     [key], {});\n",
              "          if (!dataTable) return;\n",
              "\n",
              "          const docLinkHtml = 'Like what you see? Visit the ' +\n",
              "            '<a target=\"_blank\" href=https://colab.research.google.com/notebooks/data_table.ipynb>data table notebook</a>'\n",
              "            + ' to learn more about interactive tables.';\n",
              "          element.innerHTML = '';\n",
              "          dataTable['output_type'] = 'display_data';\n",
              "          await google.colab.output.renderOutput(dataTable, element);\n",
              "          const docLink = document.createElement('div');\n",
              "          docLink.innerHTML = docLinkHtml;\n",
              "          element.appendChild(docLink);\n",
              "        }\n",
              "      </script>\n",
              "    </div>\n",
              "  </div>\n",
              "  "
            ]
          },
          "metadata": {},
          "execution_count": 3
        }
      ]
    },
    {
      "cell_type": "code",
      "metadata": {
        "id": "bmPSHQpAaZZw"
      },
      "source": [
        "# function for row sampling\n",
        "\n",
        "def sample_rows(df,percent):\n",
        "  return df.sample(int(percent*df.shape[0]),replace=True)"
      ],
      "execution_count": null,
      "outputs": []
    },
    {
      "cell_type": "code",
      "metadata": {
        "id": "f-ziftsvbJ6j"
      },
      "source": [
        "# function for feature sampling\n",
        "def sample_features(df,percent):\n",
        "  cols = random.sample(df.columns.tolist()[:-1],int(percent*(df.shape[1]-1)))\n",
        "  new_df = df[cols]\n",
        "  new_df['target'] = df['target']\n",
        "  return new_df"
      ],
      "execution_count": null,
      "outputs": []
    },
    {
      "cell_type": "code",
      "metadata": {
        "id": "yoPV7Lkc50tL"
      },
      "source": [
        "# function for combined sampling\n",
        "\n",
        "def combined_sampling(df,row_percent,col_percent):\n",
        "  new_df = sample_rows(df,row_percent)\n",
        "  return sample_features(new_df,col_percent)"
      ],
      "execution_count": null,
      "outputs": []
    },
    {
      "cell_type": "markdown",
      "source": [
        "## **Pasting**\n",
        "\n",
        "we know that in pasting randomly rows are selected "
      ],
      "metadata": {
        "id": "e03GFFyI8ZrT"
      }
    },
    {
      "cell_type": "code",
      "source": [
        "df"
      ],
      "metadata": {
        "colab": {
          "base_uri": "https://localhost:8080/",
          "height": 424
        },
        "id": "yAR2ACU598W8",
        "outputId": "cc9ef56e-d858-460f-884c-67e4a756913d"
      },
      "execution_count": null,
      "outputs": [
        {
          "output_type": "execute_result",
          "data": {
            "text/plain": [
              "        col1      col2      col3      col4      col5  target\n",
              "0   2.859146  3.480398 -2.882182 -0.347813  0.770659       1\n",
              "1   1.555192  1.613568 -1.583097  1.101079  0.344955       1\n",
              "2   1.116929  0.641166 -1.338132  1.538477 -0.728124       1\n",
              "3   1.154583  2.839022 -2.138209 -0.039862 -0.250081       1\n",
              "4  -0.172723  0.417434 -0.150303  3.234401  1.479277       0\n",
              "..       ...       ...       ...       ...       ...     ...\n",
              "95  0.568757 -0.553376 -0.477568  2.007200 -0.730688       1\n",
              "96 -1.989546  2.121591 -0.276327  1.266120 -0.039170       0\n",
              "97  0.773298 -0.148027 -1.020588  1.768861 -0.568776       1\n",
              "98 -2.335057  1.400058 -2.514671 -0.954643  3.244775       0\n",
              "99 -0.023877 -0.233023 -0.870364  2.347886  0.720394       0\n",
              "\n",
              "[100 rows x 6 columns]"
            ],
            "text/html": [
              "\n",
              "  <div id=\"df-bf5a70df-de49-4acf-90cc-bdd053e7273a\">\n",
              "    <div class=\"colab-df-container\">\n",
              "      <div>\n",
              "<style scoped>\n",
              "    .dataframe tbody tr th:only-of-type {\n",
              "        vertical-align: middle;\n",
              "    }\n",
              "\n",
              "    .dataframe tbody tr th {\n",
              "        vertical-align: top;\n",
              "    }\n",
              "\n",
              "    .dataframe thead th {\n",
              "        text-align: right;\n",
              "    }\n",
              "</style>\n",
              "<table border=\"1\" class=\"dataframe\">\n",
              "  <thead>\n",
              "    <tr style=\"text-align: right;\">\n",
              "      <th></th>\n",
              "      <th>col1</th>\n",
              "      <th>col2</th>\n",
              "      <th>col3</th>\n",
              "      <th>col4</th>\n",
              "      <th>col5</th>\n",
              "      <th>target</th>\n",
              "    </tr>\n",
              "  </thead>\n",
              "  <tbody>\n",
              "    <tr>\n",
              "      <th>0</th>\n",
              "      <td>2.859146</td>\n",
              "      <td>3.480398</td>\n",
              "      <td>-2.882182</td>\n",
              "      <td>-0.347813</td>\n",
              "      <td>0.770659</td>\n",
              "      <td>1</td>\n",
              "    </tr>\n",
              "    <tr>\n",
              "      <th>1</th>\n",
              "      <td>1.555192</td>\n",
              "      <td>1.613568</td>\n",
              "      <td>-1.583097</td>\n",
              "      <td>1.101079</td>\n",
              "      <td>0.344955</td>\n",
              "      <td>1</td>\n",
              "    </tr>\n",
              "    <tr>\n",
              "      <th>2</th>\n",
              "      <td>1.116929</td>\n",
              "      <td>0.641166</td>\n",
              "      <td>-1.338132</td>\n",
              "      <td>1.538477</td>\n",
              "      <td>-0.728124</td>\n",
              "      <td>1</td>\n",
              "    </tr>\n",
              "    <tr>\n",
              "      <th>3</th>\n",
              "      <td>1.154583</td>\n",
              "      <td>2.839022</td>\n",
              "      <td>-2.138209</td>\n",
              "      <td>-0.039862</td>\n",
              "      <td>-0.250081</td>\n",
              "      <td>1</td>\n",
              "    </tr>\n",
              "    <tr>\n",
              "      <th>4</th>\n",
              "      <td>-0.172723</td>\n",
              "      <td>0.417434</td>\n",
              "      <td>-0.150303</td>\n",
              "      <td>3.234401</td>\n",
              "      <td>1.479277</td>\n",
              "      <td>0</td>\n",
              "    </tr>\n",
              "    <tr>\n",
              "      <th>...</th>\n",
              "      <td>...</td>\n",
              "      <td>...</td>\n",
              "      <td>...</td>\n",
              "      <td>...</td>\n",
              "      <td>...</td>\n",
              "      <td>...</td>\n",
              "    </tr>\n",
              "    <tr>\n",
              "      <th>95</th>\n",
              "      <td>0.568757</td>\n",
              "      <td>-0.553376</td>\n",
              "      <td>-0.477568</td>\n",
              "      <td>2.007200</td>\n",
              "      <td>-0.730688</td>\n",
              "      <td>1</td>\n",
              "    </tr>\n",
              "    <tr>\n",
              "      <th>96</th>\n",
              "      <td>-1.989546</td>\n",
              "      <td>2.121591</td>\n",
              "      <td>-0.276327</td>\n",
              "      <td>1.266120</td>\n",
              "      <td>-0.039170</td>\n",
              "      <td>0</td>\n",
              "    </tr>\n",
              "    <tr>\n",
              "      <th>97</th>\n",
              "      <td>0.773298</td>\n",
              "      <td>-0.148027</td>\n",
              "      <td>-1.020588</td>\n",
              "      <td>1.768861</td>\n",
              "      <td>-0.568776</td>\n",
              "      <td>1</td>\n",
              "    </tr>\n",
              "    <tr>\n",
              "      <th>98</th>\n",
              "      <td>-2.335057</td>\n",
              "      <td>1.400058</td>\n",
              "      <td>-2.514671</td>\n",
              "      <td>-0.954643</td>\n",
              "      <td>3.244775</td>\n",
              "      <td>0</td>\n",
              "    </tr>\n",
              "    <tr>\n",
              "      <th>99</th>\n",
              "      <td>-0.023877</td>\n",
              "      <td>-0.233023</td>\n",
              "      <td>-0.870364</td>\n",
              "      <td>2.347886</td>\n",
              "      <td>0.720394</td>\n",
              "      <td>0</td>\n",
              "    </tr>\n",
              "  </tbody>\n",
              "</table>\n",
              "<p>100 rows × 6 columns</p>\n",
              "</div>\n",
              "      <button class=\"colab-df-convert\" onclick=\"convertToInteractive('df-bf5a70df-de49-4acf-90cc-bdd053e7273a')\"\n",
              "              title=\"Convert this dataframe to an interactive table.\"\n",
              "              style=\"display:none;\">\n",
              "        \n",
              "  <svg xmlns=\"http://www.w3.org/2000/svg\" height=\"24px\"viewBox=\"0 0 24 24\"\n",
              "       width=\"24px\">\n",
              "    <path d=\"M0 0h24v24H0V0z\" fill=\"none\"/>\n",
              "    <path d=\"M18.56 5.44l.94 2.06.94-2.06 2.06-.94-2.06-.94-.94-2.06-.94 2.06-2.06.94zm-11 1L8.5 8.5l.94-2.06 2.06-.94-2.06-.94L8.5 2.5l-.94 2.06-2.06.94zm10 10l.94 2.06.94-2.06 2.06-.94-2.06-.94-.94-2.06-.94 2.06-2.06.94z\"/><path d=\"M17.41 7.96l-1.37-1.37c-.4-.4-.92-.59-1.43-.59-.52 0-1.04.2-1.43.59L10.3 9.45l-7.72 7.72c-.78.78-.78 2.05 0 2.83L4 21.41c.39.39.9.59 1.41.59.51 0 1.02-.2 1.41-.59l7.78-7.78 2.81-2.81c.8-.78.8-2.07 0-2.86zM5.41 20L4 18.59l7.72-7.72 1.47 1.35L5.41 20z\"/>\n",
              "  </svg>\n",
              "      </button>\n",
              "      \n",
              "  <style>\n",
              "    .colab-df-container {\n",
              "      display:flex;\n",
              "      flex-wrap:wrap;\n",
              "      gap: 12px;\n",
              "    }\n",
              "\n",
              "    .colab-df-convert {\n",
              "      background-color: #E8F0FE;\n",
              "      border: none;\n",
              "      border-radius: 50%;\n",
              "      cursor: pointer;\n",
              "      display: none;\n",
              "      fill: #1967D2;\n",
              "      height: 32px;\n",
              "      padding: 0 0 0 0;\n",
              "      width: 32px;\n",
              "    }\n",
              "\n",
              "    .colab-df-convert:hover {\n",
              "      background-color: #E2EBFA;\n",
              "      box-shadow: 0px 1px 2px rgba(60, 64, 67, 0.3), 0px 1px 3px 1px rgba(60, 64, 67, 0.15);\n",
              "      fill: #174EA6;\n",
              "    }\n",
              "\n",
              "    [theme=dark] .colab-df-convert {\n",
              "      background-color: #3B4455;\n",
              "      fill: #D2E3FC;\n",
              "    }\n",
              "\n",
              "    [theme=dark] .colab-df-convert:hover {\n",
              "      background-color: #434B5C;\n",
              "      box-shadow: 0px 1px 3px 1px rgba(0, 0, 0, 0.15);\n",
              "      filter: drop-shadow(0px 1px 2px rgba(0, 0, 0, 0.3));\n",
              "      fill: #FFFFFF;\n",
              "    }\n",
              "  </style>\n",
              "\n",
              "      <script>\n",
              "        const buttonEl =\n",
              "          document.querySelector('#df-bf5a70df-de49-4acf-90cc-bdd053e7273a button.colab-df-convert');\n",
              "        buttonEl.style.display =\n",
              "          google.colab.kernel.accessAllowed ? 'block' : 'none';\n",
              "\n",
              "        async function convertToInteractive(key) {\n",
              "          const element = document.querySelector('#df-bf5a70df-de49-4acf-90cc-bdd053e7273a');\n",
              "          const dataTable =\n",
              "            await google.colab.kernel.invokeFunction('convertToInteractive',\n",
              "                                                     [key], {});\n",
              "          if (!dataTable) return;\n",
              "\n",
              "          const docLinkHtml = 'Like what you see? Visit the ' +\n",
              "            '<a target=\"_blank\" href=https://colab.research.google.com/notebooks/data_table.ipynb>data table notebook</a>'\n",
              "            + ' to learn more about interactive tables.';\n",
              "          element.innerHTML = '';\n",
              "          dataTable['output_type'] = 'display_data';\n",
              "          await google.colab.output.renderOutput(dataTable, element);\n",
              "          const docLink = document.createElement('div');\n",
              "          docLink.innerHTML = docLinkHtml;\n",
              "          element.appendChild(docLink);\n",
              "        }\n",
              "      </script>\n",
              "    </div>\n",
              "  </div>\n",
              "  "
            ]
          },
          "metadata": {},
          "execution_count": 18
        }
      ]
    },
    {
      "cell_type": "code",
      "source": [
        "df1 = sample_rows(df,0.2)"
      ],
      "metadata": {
        "id": "gYmiydwc8nDd"
      },
      "execution_count": null,
      "outputs": []
    },
    {
      "cell_type": "code",
      "source": [
        "df2 = sample_rows(df,0.2)"
      ],
      "metadata": {
        "id": "KloHaopL9DnL"
      },
      "execution_count": null,
      "outputs": []
    },
    {
      "cell_type": "code",
      "source": [
        "df3 = sample_rows(df,0.2)"
      ],
      "metadata": {
        "id": "tgVKfNAQ9Di6"
      },
      "execution_count": null,
      "outputs": []
    },
    {
      "cell_type": "code",
      "source": [
        "from sklearn.tree import DecisionTreeClassifier\n",
        "clf1 = DecisionTreeClassifier()\n",
        "clf2 = DecisionTreeClassifier()\n",
        "clf3 = DecisionTreeClassifier()"
      ],
      "metadata": {
        "id": "QPpsACcF9Ddq"
      },
      "execution_count": null,
      "outputs": []
    },
    {
      "cell_type": "code",
      "source": [
        "clf1.fit(df1.iloc[:,0:5],df1.iloc[:,-1])\n",
        "clf2.fit(df2.iloc[:,0:5],df2.iloc[:,-1])\n",
        "clf3.fit(df3.iloc[:,0:5],df3.iloc[:,-1])"
      ],
      "metadata": {
        "colab": {
          "base_uri": "https://localhost:8080/",
          "height": 75
        },
        "id": "Y6ZZamou9Daq",
        "outputId": "838b6278-abb9-418f-b3e0-9385b999df5d"
      },
      "execution_count": null,
      "outputs": [
        {
          "output_type": "execute_result",
          "data": {
            "text/plain": [
              "DecisionTreeClassifier()"
            ],
            "text/html": [
              "<style>#sk-container-id-2 {color: black;background-color: white;}#sk-container-id-2 pre{padding: 0;}#sk-container-id-2 div.sk-toggleable {background-color: white;}#sk-container-id-2 label.sk-toggleable__label {cursor: pointer;display: block;width: 100%;margin-bottom: 0;padding: 0.3em;box-sizing: border-box;text-align: center;}#sk-container-id-2 label.sk-toggleable__label-arrow:before {content: \"▸\";float: left;margin-right: 0.25em;color: #696969;}#sk-container-id-2 label.sk-toggleable__label-arrow:hover:before {color: black;}#sk-container-id-2 div.sk-estimator:hover label.sk-toggleable__label-arrow:before {color: black;}#sk-container-id-2 div.sk-toggleable__content {max-height: 0;max-width: 0;overflow: hidden;text-align: left;background-color: #f0f8ff;}#sk-container-id-2 div.sk-toggleable__content pre {margin: 0.2em;color: black;border-radius: 0.25em;background-color: #f0f8ff;}#sk-container-id-2 input.sk-toggleable__control:checked~div.sk-toggleable__content {max-height: 200px;max-width: 100%;overflow: auto;}#sk-container-id-2 input.sk-toggleable__control:checked~label.sk-toggleable__label-arrow:before {content: \"▾\";}#sk-container-id-2 div.sk-estimator input.sk-toggleable__control:checked~label.sk-toggleable__label {background-color: #d4ebff;}#sk-container-id-2 div.sk-label input.sk-toggleable__control:checked~label.sk-toggleable__label {background-color: #d4ebff;}#sk-container-id-2 input.sk-hidden--visually {border: 0;clip: rect(1px 1px 1px 1px);clip: rect(1px, 1px, 1px, 1px);height: 1px;margin: -1px;overflow: hidden;padding: 0;position: absolute;width: 1px;}#sk-container-id-2 div.sk-estimator {font-family: monospace;background-color: #f0f8ff;border: 1px dotted black;border-radius: 0.25em;box-sizing: border-box;margin-bottom: 0.5em;}#sk-container-id-2 div.sk-estimator:hover {background-color: #d4ebff;}#sk-container-id-2 div.sk-parallel-item::after {content: \"\";width: 100%;border-bottom: 1px solid gray;flex-grow: 1;}#sk-container-id-2 div.sk-label:hover label.sk-toggleable__label {background-color: #d4ebff;}#sk-container-id-2 div.sk-serial::before {content: \"\";position: absolute;border-left: 1px solid gray;box-sizing: border-box;top: 0;bottom: 0;left: 50%;z-index: 0;}#sk-container-id-2 div.sk-serial {display: flex;flex-direction: column;align-items: center;background-color: white;padding-right: 0.2em;padding-left: 0.2em;position: relative;}#sk-container-id-2 div.sk-item {position: relative;z-index: 1;}#sk-container-id-2 div.sk-parallel {display: flex;align-items: stretch;justify-content: center;background-color: white;position: relative;}#sk-container-id-2 div.sk-item::before, #sk-container-id-2 div.sk-parallel-item::before {content: \"\";position: absolute;border-left: 1px solid gray;box-sizing: border-box;top: 0;bottom: 0;left: 50%;z-index: -1;}#sk-container-id-2 div.sk-parallel-item {display: flex;flex-direction: column;z-index: 1;position: relative;background-color: white;}#sk-container-id-2 div.sk-parallel-item:first-child::after {align-self: flex-end;width: 50%;}#sk-container-id-2 div.sk-parallel-item:last-child::after {align-self: flex-start;width: 50%;}#sk-container-id-2 div.sk-parallel-item:only-child::after {width: 0;}#sk-container-id-2 div.sk-dashed-wrapped {border: 1px dashed gray;margin: 0 0.4em 0.5em 0.4em;box-sizing: border-box;padding-bottom: 0.4em;background-color: white;}#sk-container-id-2 div.sk-label label {font-family: monospace;font-weight: bold;display: inline-block;line-height: 1.2em;}#sk-container-id-2 div.sk-label-container {text-align: center;}#sk-container-id-2 div.sk-container {/* jupyter's `normalize.less` sets `[hidden] { display: none; }` but bootstrap.min.css set `[hidden] { display: none !important; }` so we also need the `!important` here to be able to override the default hidden behavior on the sphinx rendered scikit-learn.org. See: https://github.com/scikit-learn/scikit-learn/issues/21755 */display: inline-block !important;position: relative;}#sk-container-id-2 div.sk-text-repr-fallback {display: none;}</style><div id=\"sk-container-id-2\" class=\"sk-top-container\"><div class=\"sk-text-repr-fallback\"><pre>DecisionTreeClassifier()</pre><b>In a Jupyter environment, please rerun this cell to show the HTML representation or trust the notebook. <br />On GitHub, the HTML representation is unable to render, please try loading this page with nbviewer.org.</b></div><div class=\"sk-container\" hidden><div class=\"sk-item\"><div class=\"sk-estimator sk-toggleable\"><input class=\"sk-toggleable__control sk-hidden--visually\" id=\"sk-estimator-id-2\" type=\"checkbox\" checked><label for=\"sk-estimator-id-2\" class=\"sk-toggleable__label sk-toggleable__label-arrow\">DecisionTreeClassifier</label><div class=\"sk-toggleable__content\"><pre>DecisionTreeClassifier()</pre></div></div></div></div></div>"
            ]
          },
          "metadata": {},
          "execution_count": 20
        }
      ]
    },
    {
      "cell_type": "code",
      "source": [
        "from sklearn.tree import plot_tree"
      ],
      "metadata": {
        "id": "8JzN6PKs9iWi"
      },
      "execution_count": null,
      "outputs": []
    },
    {
      "cell_type": "code",
      "source": [
        "plot_tree(clf1)"
      ],
      "metadata": {
        "colab": {
          "base_uri": "https://localhost:8080/",
          "height": 335
        },
        "id": "SbMGDTvN9iQZ",
        "outputId": "dc63b0bb-6577-4302-b7f4-2786f15c7342"
      },
      "execution_count": null,
      "outputs": [
        {
          "output_type": "execute_result",
          "data": {
            "text/plain": [
              "[Text(0.4, 0.8333333333333334, 'x[4] <= -0.368\\ngini = 0.455\\nsamples = 20\\nvalue = [13, 7]'),\n",
              " Text(0.2, 0.5, 'gini = 0.0\\nsamples = 6\\nvalue = [0, 6]'),\n",
              " Text(0.6, 0.5, 'x[3] <= 1.948\\ngini = 0.133\\nsamples = 14\\nvalue = [13, 1]'),\n",
              " Text(0.4, 0.16666666666666666, 'gini = 0.0\\nsamples = 13\\nvalue = [13, 0]'),\n",
              " Text(0.8, 0.16666666666666666, 'gini = 0.0\\nsamples = 1\\nvalue = [0, 1]')]"
            ]
          },
          "metadata": {},
          "execution_count": 22
        },
        {
          "output_type": "display_data",
          "data": {
            "text/plain": [
              "<Figure size 432x288 with 1 Axes>"
            ],
            "image/png": "[encoded data removed]"
          },
          "metadata": {
            "needs_background": "light"
          }
        }
      ]
    },
    {
      "cell_type": "code",
      "source": [
        "plot_tree(clf2)"
      ],
      "metadata": {
        "colab": {
          "base_uri": "https://localhost:8080/",
          "height": 370
        },
        "id": "h7V0BJr59iK7",
        "outputId": "28b73d66-219e-4baa-cfb0-ac34b8d9641f"
      },
      "execution_count": null,
      "outputs": [
        {
          "output_type": "execute_result",
          "data": {
            "text/plain": [
              "[Text(0.3333333333333333, 0.875, 'x[0] <= -0.981\\ngini = 0.5\\nsamples = 20\\nvalue = [10, 10]'),\n",
              " Text(0.16666666666666666, 0.625, 'gini = 0.0\\nsamples = 8\\nvalue = [8, 0]'),\n",
              " Text(0.5, 0.625, 'x[3] <= 2.343\\ngini = 0.278\\nsamples = 12\\nvalue = [2, 10]'),\n",
              " Text(0.3333333333333333, 0.375, 'gini = 0.0\\nsamples = 9\\nvalue = [0, 9]'),\n",
              " Text(0.6666666666666666, 0.375, 'x[2] <= -2.44\\ngini = 0.444\\nsamples = 3\\nvalue = [2, 1]'),\n",
              " Text(0.5, 0.125, 'gini = 0.0\\nsamples = 1\\nvalue = [0, 1]'),\n",
              " Text(0.8333333333333334, 0.125, 'gini = 0.0\\nsamples = 2\\nvalue = [2, 0]')]"
            ]
          },
          "metadata": {},
          "execution_count": 23
        },
        {
          "output_type": "display_data",
          "data": {
            "text/plain": [
              "<Figure size 432x288 with 1 Axes>"
            ],
            "image/png": "[encoded data removed]"
          },
          "metadata": {
            "needs_background": "light"
          }
        }
      ]
    },
    {
      "cell_type": "code",
      "source": [
        "plot_tree(clf3)"
      ],
      "metadata": {
        "colab": {
          "base_uri": "https://localhost:8080/",
          "height": 335
        },
        "id": "ri6vbY4v9qnp",
        "outputId": "e95b2d30-d372-4a86-dea6-f68160c5d024"
      },
      "execution_count": null,
      "outputs": [
        {
          "output_type": "execute_result",
          "data": {
            "text/plain": [
              "[Text(0.4, 0.8333333333333334, 'x[4] <= -0.055\\ngini = 0.495\\nsamples = 20\\nvalue = [11, 9]'),\n",
              " Text(0.2, 0.5, 'gini = 0.0\\nsamples = 8\\nvalue = [0, 8]'),\n",
              " Text(0.6, 0.5, 'x[0] <= 0.531\\ngini = 0.153\\nsamples = 12\\nvalue = [11, 1]'),\n",
              " Text(0.4, 0.16666666666666666, 'gini = 0.0\\nsamples = 11\\nvalue = [11, 0]'),\n",
              " Text(0.8, 0.16666666666666666, 'gini = 0.0\\nsamples = 1\\nvalue = [0, 1]')]"
            ]
          },
          "metadata": {},
          "execution_count": 24
        },
        {
          "output_type": "display_data",
          "data": {
            "text/plain": [
              "<Figure size 432x288 with 1 Axes>"
            ],
            "image/png": "[encoded data removed]"
          },
          "metadata": {
            "needs_background": "light"
          }
        }
      ]
    },
    {
      "cell_type": "code",
      "source": [
        "#let take 99th row of df and predict the output ..we know its label is 0\n",
        "clf1.predict(np.array([-0.023877,-0.233023,-0.870364,2.347886,0.720394]).reshape(1,5))"
      ],
      "metadata": {
        "colab": {
          "base_uri": "https://localhost:8080/"
        },
        "id": "B6RtiBVM92uF",
        "outputId": "3316c1c0-07d4-403a-c2fd-ffb4e3f0a178"
      },
      "execution_count": null,
      "outputs": [
        {
          "output_type": "stream",
          "name": "stderr",
          "text": [
            "/usr/local/lib/python3.9/dist-packages/sklearn/base.py:420: UserWarning: X does not have valid feature names, but DecisionTreeClassifier was fitted with feature names\n",
            "  warnings.warn(\n"
          ]
        },
        {
          "output_type": "execute_result",
          "data": {
            "text/plain": [
              "array([1])"
            ]
          },
          "metadata": {},
          "execution_count": 26
        }
      ]
    },
    {
      "cell_type": "code",
      "source": [
        "clf2.predict(np.array([-0.023877,-0.233023,-0.870364,2.347886,0.720394]).reshape(1,5))"
      ],
      "metadata": {
        "colab": {
          "base_uri": "https://localhost:8080/"
        },
        "id": "-ZGBT1NI-d-1",
        "outputId": "e0184cba-8054-46af-ccdb-03453d9527e5"
      },
      "execution_count": null,
      "outputs": [
        {
          "output_type": "stream",
          "name": "stderr",
          "text": [
            "/usr/local/lib/python3.9/dist-packages/sklearn/base.py:420: UserWarning: X does not have valid feature names, but DecisionTreeClassifier was fitted with feature names\n",
            "  warnings.warn(\n"
          ]
        },
        {
          "output_type": "execute_result",
          "data": {
            "text/plain": [
              "array([0])"
            ]
          },
          "metadata": {},
          "execution_count": 27
        }
      ]
    },
    {
      "cell_type": "code",
      "source": [
        "clf3.predict(np.array([-0.023877,-0.233023,-0.870364,2.347886,0.720394]).reshape(1,5))"
      ],
      "metadata": {
        "colab": {
          "base_uri": "https://localhost:8080/"
        },
        "id": "_DPJaN-s-dzT",
        "outputId": "320b6715-7adf-4daf-d5fe-86a1bf2573ac"
      },
      "execution_count": null,
      "outputs": [
        {
          "output_type": "stream",
          "name": "stderr",
          "text": [
            "/usr/local/lib/python3.9/dist-packages/sklearn/base.py:420: UserWarning: X does not have valid feature names, but DecisionTreeClassifier was fitted with feature names\n",
            "  warnings.warn(\n"
          ]
        },
        {
          "output_type": "execute_result",
          "data": {
            "text/plain": [
              "array([0])"
            ]
          },
          "metadata": {},
          "execution_count": 28
        }
      ]
    },
    {
      "cell_type": "code",
      "source": [
        "#as we can see majority classifier say 0 so taking mode or aggregating this will give me 0 as answer"
      ],
      "metadata": {
        "id": "GQ09AqWs-iMT"
      },
      "execution_count": null,
      "outputs": []
    },
    {
      "cell_type": "markdown",
      "source": [
        "## **Random Subspace**\n",
        "\n",
        "In random subspace we give all the rows but use sampling on columns"
      ],
      "metadata": {
        "id": "fNHCrT8w-ubM"
      }
    },
    {
      "cell_type": "code",
      "source": [
        "df1 = sample_features(df,0.8)"
      ],
      "metadata": {
        "id": "hREbw7mm-tR_"
      },
      "execution_count": null,
      "outputs": []
    },
    {
      "cell_type": "code",
      "source": [
        "df2 = sample_features(df,0.8)"
      ],
      "metadata": {
        "id": "HEKouBfs_E97"
      },
      "execution_count": null,
      "outputs": []
    },
    {
      "cell_type": "code",
      "source": [
        "df3 = sample_features(df,0.8)"
      ],
      "metadata": {
        "id": "BHTuSVKu_E6C"
      },
      "execution_count": null,
      "outputs": []
    },
    {
      "cell_type": "code",
      "source": [
        "from sklearn.tree import DecisionTreeClassifier\n",
        "clf1 = DecisionTreeClassifier()\n",
        "clf2 = DecisionTreeClassifier()\n",
        "clf3 = DecisionTreeClassifier()"
      ],
      "metadata": {
        "id": "LZoVQyeq_SFX"
      },
      "execution_count": null,
      "outputs": []
    },
    {
      "cell_type": "code",
      "source": [
        "clf1.fit(df1.iloc[:,0:4],df1.iloc[:,-1])\n",
        "clf2.fit(df2.iloc[:,0:4],df2.iloc[:,-1])\n",
        "clf3.fit(df3.iloc[:,0:4],df3.iloc[:,-1])"
      ],
      "metadata": {
        "colab": {
          "base_uri": "https://localhost:8080/",
          "height": 75
        },
        "outputId": "6ad1c084-c49b-456c-fe5a-d89658e6a1f0",
        "id": "5YeSa_1L_SFY"
      },
      "execution_count": null,
      "outputs": [
        {
          "output_type": "execute_result",
          "data": {
            "text/plain": [
              "DecisionTreeClassifier()"
            ],
            "text/html": [
              "<style>#sk-container-id-3 {color: black;background-color: white;}#sk-container-id-3 pre{padding: 0;}#sk-container-id-3 div.sk-toggleable {background-color: white;}#sk-container-id-3 label.sk-toggleable__label {cursor: pointer;display: block;width: 100%;margin-bottom: 0;padding: 0.3em;box-sizing: border-box;text-align: center;}#sk-container-id-3 label.sk-toggleable__label-arrow:before {content: \"▸\";float: left;margin-right: 0.25em;color: #696969;}#sk-container-id-3 label.sk-toggleable__label-arrow:hover:before {color: black;}#sk-container-id-3 div.sk-estimator:hover label.sk-toggleable__label-arrow:before {color: black;}#sk-container-id-3 div.sk-toggleable__content {max-height: 0;max-width: 0;overflow: hidden;text-align: left;background-color: #f0f8ff;}#sk-container-id-3 div.sk-toggleable__content pre {margin: 0.2em;color: black;border-radius: 0.25em;background-color: #f0f8ff;}#sk-container-id-3 input.sk-toggleable__control:checked~div.sk-toggleable__content {max-height: 200px;max-width: 100%;overflow: auto;}#sk-container-id-3 input.sk-toggleable__control:checked~label.sk-toggleable__label-arrow:before {content: \"▾\";}#sk-container-id-3 div.sk-estimator input.sk-toggleable__control:checked~label.sk-toggleable__label {background-color: #d4ebff;}#sk-container-id-3 div.sk-label input.sk-toggleable__control:checked~label.sk-toggleable__label {background-color: #d4ebff;}#sk-container-id-3 input.sk-hidden--visually {border: 0;clip: rect(1px 1px 1px 1px);clip: rect(1px, 1px, 1px, 1px);height: 1px;margin: -1px;overflow: hidden;padding: 0;position: absolute;width: 1px;}#sk-container-id-3 div.sk-estimator {font-family: monospace;background-color: #f0f8ff;border: 1px dotted black;border-radius: 0.25em;box-sizing: border-box;margin-bottom: 0.5em;}#sk-container-id-3 div.sk-estimator:hover {background-color: #d4ebff;}#sk-container-id-3 div.sk-parallel-item::after {content: \"\";width: 100%;border-bottom: 1px solid gray;flex-grow: 1;}#sk-container-id-3 div.sk-label:hover label.sk-toggleable__label {background-color: #d4ebff;}#sk-container-id-3 div.sk-serial::before {content: \"\";position: absolute;border-left: 1px solid gray;box-sizing: border-box;top: 0;bottom: 0;left: 50%;z-index: 0;}#sk-container-id-3 div.sk-serial {display: flex;flex-direction: column;align-items: center;background-color: white;padding-right: 0.2em;padding-left: 0.2em;position: relative;}#sk-container-id-3 div.sk-item {position: relative;z-index: 1;}#sk-container-id-3 div.sk-parallel {display: flex;align-items: stretch;justify-content: center;background-color: white;position: relative;}#sk-container-id-3 div.sk-item::before, #sk-container-id-3 div.sk-parallel-item::before {content: \"\";position: absolute;border-left: 1px solid gray;box-sizing: border-box;top: 0;bottom: 0;left: 50%;z-index: -1;}#sk-container-id-3 div.sk-parallel-item {display: flex;flex-direction: column;z-index: 1;position: relative;background-color: white;}#sk-container-id-3 div.sk-parallel-item:first-child::after {align-self: flex-end;width: 50%;}#sk-container-id-3 div.sk-parallel-item:last-child::after {align-self: flex-start;width: 50%;}#sk-container-id-3 div.sk-parallel-item:only-child::after {width: 0;}#sk-container-id-3 div.sk-dashed-wrapped {border: 1px dashed gray;margin: 0 0.4em 0.5em 0.4em;box-sizing: border-box;padding-bottom: 0.4em;background-color: white;}#sk-container-id-3 div.sk-label label {font-family: monospace;font-weight: bold;display: inline-block;line-height: 1.2em;}#sk-container-id-3 div.sk-label-container {text-align: center;}#sk-container-id-3 div.sk-container {/* jupyter's `normalize.less` sets `[hidden] { display: none; }` but bootstrap.min.css set `[hidden] { display: none !important; }` so we also need the `!important` here to be able to override the default hidden behavior on the sphinx rendered scikit-learn.org. See: https://github.com/scikit-learn/scikit-learn/issues/21755 */display: inline-block !important;position: relative;}#sk-container-id-3 div.sk-text-repr-fallback {display: none;}</style><div id=\"sk-container-id-3\" class=\"sk-top-container\"><div class=\"sk-text-repr-fallback\"><pre>DecisionTreeClassifier()</pre><b>In a Jupyter environment, please rerun this cell to show the HTML representation or trust the notebook. <br />On GitHub, the HTML representation is unable to render, please try loading this page with nbviewer.org.</b></div><div class=\"sk-container\" hidden><div class=\"sk-item\"><div class=\"sk-estimator sk-toggleable\"><input class=\"sk-toggleable__control sk-hidden--visually\" id=\"sk-estimator-id-3\" type=\"checkbox\" checked><label for=\"sk-estimator-id-3\" class=\"sk-toggleable__label sk-toggleable__label-arrow\">DecisionTreeClassifier</label><div class=\"sk-toggleable__content\"><pre>DecisionTreeClassifier()</pre></div></div></div></div></div>"
            ]
          },
          "metadata": {},
          "execution_count": 34
        }
      ]
    },
    {
      "cell_type": "code",
      "source": [
        "from sklearn.tree import plot_tree"
      ],
      "metadata": {
        "id": "05Z-td_d_SFZ"
      },
      "execution_count": null,
      "outputs": []
    },
    {
      "cell_type": "code",
      "source": [
        "plot_tree(clf1)"
      ],
      "metadata": {
        "colab": {
          "base_uri": "https://localhost:8080/",
          "height": 647
        },
        "outputId": "d044ef47-3c4f-44b9-b4ef-49878b10fc13",
        "id": "MYGn9MST_SFa"
      },
      "execution_count": null,
      "outputs": [
        {
          "output_type": "execute_result",
          "data": {
            "text/plain": [
              "[Text(0.4, 0.9285714285714286, 'x[2] <= -0.478\\ngini = 0.5\\nsamples = 100\\nvalue = [50, 50]'),\n",
              " Text(0.13333333333333333, 0.7857142857142857, 'x[0] <= -1.55\\ngini = 0.18\\nsamples = 40\\nvalue = [4, 36]'),\n",
              " Text(0.06666666666666667, 0.6428571428571429, 'gini = 0.0\\nsamples = 2\\nvalue = [2, 0]'),\n",
              " Text(0.2, 0.6428571428571429, 'x[0] <= 3.136\\ngini = 0.1\\nsamples = 38\\nvalue = [2, 36]'),\n",
              " Text(0.13333333333333333, 0.5, 'x[1] <= 3.153\\ngini = 0.053\\nsamples = 37\\nvalue = [1, 36]'),\n",
              " Text(0.06666666666666667, 0.35714285714285715, 'gini = 0.0\\nsamples = 36\\nvalue = [0, 36]'),\n",
              " Text(0.2, 0.35714285714285715, 'gini = 0.0\\nsamples = 1\\nvalue = [1, 0]'),\n",
              " Text(0.26666666666666666, 0.5, 'gini = 0.0\\nsamples = 1\\nvalue = [1, 0]'),\n",
              " Text(0.6666666666666666, 0.7857142857142857, 'x[3] <= -1.851\\ngini = 0.358\\nsamples = 60\\nvalue = [46, 14]'),\n",
              " Text(0.4666666666666667, 0.6428571428571429, 'x[0] <= -0.623\\ngini = 0.5\\nsamples = 18\\nvalue = [9, 9]'),\n",
              " Text(0.4, 0.5, 'gini = 0.0\\nsamples = 6\\nvalue = [6, 0]'),\n",
              " Text(0.5333333333333333, 0.5, 'x[1] <= 0.775\\ngini = 0.375\\nsamples = 12\\nvalue = [3, 9]'),\n",
              " Text(0.4666666666666667, 0.35714285714285715, 'gini = 0.0\\nsamples = 3\\nvalue = [3, 0]'),\n",
              " Text(0.6, 0.35714285714285715, 'gini = 0.0\\nsamples = 9\\nvalue = [0, 9]'),\n",
              " Text(0.8666666666666667, 0.6428571428571429, 'x[2] <= 0.347\\ngini = 0.21\\nsamples = 42\\nvalue = [37, 5]'),\n",
              " Text(0.8, 0.5, 'x[1] <= 1.868\\ngini = 0.43\\nsamples = 16\\nvalue = [11, 5]'),\n",
              " Text(0.7333333333333333, 0.35714285714285715, 'x[0] <= 0.888\\ngini = 0.494\\nsamples = 9\\nvalue = [4, 5]'),\n",
              " Text(0.6666666666666666, 0.21428571428571427, 'gini = 0.0\\nsamples = 2\\nvalue = [2, 0]'),\n",
              " Text(0.8, 0.21428571428571427, 'x[2] <= -0.128\\ngini = 0.408\\nsamples = 7\\nvalue = [2, 5]'),\n",
              " Text(0.7333333333333333, 0.07142857142857142, 'gini = 0.0\\nsamples = 2\\nvalue = [2, 0]'),\n",
              " Text(0.8666666666666667, 0.07142857142857142, 'gini = 0.0\\nsamples = 5\\nvalue = [0, 5]'),\n",
              " Text(0.8666666666666667, 0.35714285714285715, 'gini = 0.0\\nsamples = 7\\nvalue = [7, 0]'),\n",
              " Text(0.9333333333333333, 0.5, 'gini = 0.0\\nsamples = 26\\nvalue = [26, 0]')]"
            ]
          },
          "metadata": {},
          "execution_count": 36
        },
        {
          "output_type": "display_data",
          "data": {
            "text/plain": [
              "<Figure size 432x288 with 1 Axes>"
            ],
            "image/png": "[encoded data removed]"
          },
          "metadata": {
            "needs_background": "light"
          }
        }
      ]
    },
    {
      "cell_type": "code",
      "source": [
        "plot_tree(clf2)"
      ],
      "metadata": {
        "colab": {
          "base_uri": "https://localhost:8080/",
          "height": 613
        },
        "id": "OAd9Iedz_Eld",
        "outputId": "f3ed5f5f-6967-4367-a4cd-55910cd2b762"
      },
      "execution_count": null,
      "outputs": [
        {
          "output_type": "execute_result",
          "data": {
            "text/plain": [
              "[Text(0.40625, 0.9166666666666666, 'x[1] <= -0.478\\ngini = 0.5\\nsamples = 100\\nvalue = [50, 50]'),\n",
              " Text(0.1875, 0.75, 'x[3] <= 3.153\\ngini = 0.18\\nsamples = 40\\nvalue = [4, 36]'),\n",
              " Text(0.125, 0.5833333333333334, 'x[0] <= -1.55\\ngini = 0.1\\nsamples = 38\\nvalue = [2, 36]'),\n",
              " Text(0.0625, 0.4166666666666667, 'gini = 0.0\\nsamples = 1\\nvalue = [1, 0]'),\n",
              " Text(0.1875, 0.4166666666666667, 'x[0] <= 3.136\\ngini = 0.053\\nsamples = 37\\nvalue = [1, 36]'),\n",
              " Text(0.125, 0.25, 'gini = 0.0\\nsamples = 36\\nvalue = [0, 36]'),\n",
              " Text(0.25, 0.25, 'gini = 0.0\\nsamples = 1\\nvalue = [1, 0]'),\n",
              " Text(0.25, 0.5833333333333334, 'gini = 0.0\\nsamples = 2\\nvalue = [2, 0]'),\n",
              " Text(0.625, 0.75, 'x[2] <= 1.265\\ngini = 0.358\\nsamples = 60\\nvalue = [46, 14]'),\n",
              " Text(0.5, 0.5833333333333334, 'x[1] <= -0.069\\ngini = 0.083\\nsamples = 46\\nvalue = [44, 2]'),\n",
              " Text(0.4375, 0.4166666666666667, 'x[3] <= 2.615\\ngini = 0.5\\nsamples = 4\\nvalue = [2, 2]'),\n",
              " Text(0.375, 0.25, 'gini = 0.0\\nsamples = 2\\nvalue = [2, 0]'),\n",
              " Text(0.5, 0.25, 'gini = 0.0\\nsamples = 2\\nvalue = [0, 2]'),\n",
              " Text(0.5625, 0.4166666666666667, 'gini = 0.0\\nsamples = 42\\nvalue = [42, 0]'),\n",
              " Text(0.75, 0.5833333333333334, 'x[1] <= -0.128\\ngini = 0.245\\nsamples = 14\\nvalue = [2, 12]'),\n",
              " Text(0.6875, 0.4166666666666667, 'gini = 0.0\\nsamples = 1\\nvalue = [1, 0]'),\n",
              " Text(0.8125, 0.4166666666666667, 'x[1] <= 3.514\\ngini = 0.142\\nsamples = 13\\nvalue = [1, 12]'),\n",
              " Text(0.75, 0.25, 'gini = 0.0\\nsamples = 11\\nvalue = [0, 11]'),\n",
              " Text(0.875, 0.25, 'x[0] <= 3.495\\ngini = 0.5\\nsamples = 2\\nvalue = [1, 1]'),\n",
              " Text(0.8125, 0.08333333333333333, 'gini = 0.0\\nsamples = 1\\nvalue = [1, 0]'),\n",
              " Text(0.9375, 0.08333333333333333, 'gini = 0.0\\nsamples = 1\\nvalue = [0, 1]')]"
            ]
          },
          "metadata": {},
          "execution_count": 37
        },
        {
          "output_type": "display_data",
          "data": {
            "text/plain": [
              "<Figure size 432x288 with 1 Axes>"
            ],
            "image/png": "[encoded data removed]"
          },
          "metadata": {
            "needs_background": "light"
          }
        }
      ]
    },
    {
      "cell_type": "code",
      "source": [
        "plot_tree(clf3)"
      ],
      "metadata": {
        "colab": {
          "base_uri": "https://localhost:8080/",
          "height": 578
        },
        "id": "PcKJNCnz_djX",
        "outputId": "ec59d6cb-5ea7-4f3e-8674-0a79d57e1060"
      },
      "execution_count": null,
      "outputs": [
        {
          "output_type": "execute_result",
          "data": {
            "text/plain": [
              "[Text(0.4230769230769231, 0.9166666666666666, 'x[1] <= -0.478\\ngini = 0.5\\nsamples = 100\\nvalue = [50, 50]'),\n",
              " Text(0.15384615384615385, 0.75, 'x[0] <= -2.457\\ngini = 0.18\\nsamples = 40\\nvalue = [4, 36]'),\n",
              " Text(0.07692307692307693, 0.5833333333333334, 'gini = 0.0\\nsamples = 2\\nvalue = [2, 0]'),\n",
              " Text(0.23076923076923078, 0.5833333333333334, 'x[3] <= 3.153\\ngini = 0.1\\nsamples = 38\\nvalue = [2, 36]'),\n",
              " Text(0.15384615384615385, 0.4166666666666667, 'x[2] <= 0.49\\ngini = 0.053\\nsamples = 37\\nvalue = [1, 36]'),\n",
              " Text(0.07692307692307693, 0.25, 'gini = 0.0\\nsamples = 32\\nvalue = [0, 32]'),\n",
              " Text(0.23076923076923078, 0.25, 'x[0] <= 0.17\\ngini = 0.32\\nsamples = 5\\nvalue = [1, 4]'),\n",
              " Text(0.15384615384615385, 0.08333333333333333, 'gini = 0.0\\nsamples = 4\\nvalue = [0, 4]'),\n",
              " Text(0.3076923076923077, 0.08333333333333333, 'gini = 0.0\\nsamples = 1\\nvalue = [1, 0]'),\n",
              " Text(0.3076923076923077, 0.4166666666666667, 'gini = 0.0\\nsamples = 1\\nvalue = [1, 0]'),\n",
              " Text(0.6923076923076923, 0.75, 'x[0] <= 1.265\\ngini = 0.358\\nsamples = 60\\nvalue = [46, 14]'),\n",
              " Text(0.5384615384615384, 0.5833333333333334, 'x[1] <= -0.069\\ngini = 0.083\\nsamples = 46\\nvalue = [44, 2]'),\n",
              " Text(0.46153846153846156, 0.4166666666666667, 'x[1] <= -0.294\\ngini = 0.5\\nsamples = 4\\nvalue = [2, 2]'),\n",
              " Text(0.38461538461538464, 0.25, 'gini = 0.0\\nsamples = 2\\nvalue = [2, 0]'),\n",
              " Text(0.5384615384615384, 0.25, 'gini = 0.0\\nsamples = 2\\nvalue = [0, 2]'),\n",
              " Text(0.6153846153846154, 0.4166666666666667, 'gini = 0.0\\nsamples = 42\\nvalue = [42, 0]'),\n",
              " Text(0.8461538461538461, 0.5833333333333334, 'x[2] <= -0.383\\ngini = 0.245\\nsamples = 14\\nvalue = [2, 12]'),\n",
              " Text(0.7692307692307693, 0.4166666666666667, 'gini = 0.0\\nsamples = 12\\nvalue = [0, 12]'),\n",
              " Text(0.9230769230769231, 0.4166666666666667, 'gini = 0.0\\nsamples = 2\\nvalue = [2, 0]')]"
            ]
          },
          "metadata": {},
          "execution_count": 38
        },
        {
          "output_type": "display_data",
          "data": {
            "text/plain": [
              "<Figure size 432x288 with 1 Axes>"
            ],
            "image/png": "[encoded data removed]"
          },
          "metadata": {
            "needs_background": "light"
          }
        }
      ]
    },
    {
      "cell_type": "code",
      "source": [
        "df3"
      ],
      "metadata": {
        "colab": {
          "base_uri": "https://localhost:8080/",
          "height": 424
        },
        "id": "7x2Y34gB_tWl",
        "outputId": "0d111c81-f6de-40a2-c04f-c5afd52125df"
      },
      "execution_count": null,
      "outputs": [
        {
          "output_type": "execute_result",
          "data": {
            "text/plain": [
              "        col1      col5      col3      col2  target\n",
              "0   2.859146  0.770659 -2.882182  3.480398       1\n",
              "1   1.555192  0.344955 -1.583097  1.613568       1\n",
              "2   1.116929 -0.728124 -1.338132  0.641166       1\n",
              "3   1.154583 -0.250081 -2.138209  2.839022       1\n",
              "4  -0.172723  1.479277 -0.150303  0.417434       0\n",
              "..       ...       ...       ...       ...     ...\n",
              "95  0.568757 -0.730688 -0.477568 -0.553376       1\n",
              "96 -1.989546 -0.039170 -0.276327  2.121591       0\n",
              "97  0.773298 -0.568776 -1.020588 -0.148027       1\n",
              "98 -2.335057  3.244775 -2.514671  1.400058       0\n",
              "99 -0.023877  0.720394 -0.870364 -0.233023       0\n",
              "\n",
              "[100 rows x 5 columns]"
            ],
            "text/html": [
              "\n",
              "  <div id=\"df-9cd32bc1-a3c1-4f77-bf63-c82dce8a810c\">\n",
              "    <div class=\"colab-df-container\">\n",
              "      <div>\n",
              "<style scoped>\n",
              "    .dataframe tbody tr th:only-of-type {\n",
              "        vertical-align: middle;\n",
              "    }\n",
              "\n",
              "    .dataframe tbody tr th {\n",
              "        vertical-align: top;\n",
              "    }\n",
              "\n",
              "    .dataframe thead th {\n",
              "        text-align: right;\n",
              "    }\n",
              "</style>\n",
              "<table border=\"1\" class=\"dataframe\">\n",
              "  <thead>\n",
              "    <tr style=\"text-align: right;\">\n",
              "      <th></th>\n",
              "      <th>col1</th>\n",
              "      <th>col5</th>\n",
              "      <th>col3</th>\n",
              "      <th>col2</th>\n",
              "      <th>target</th>\n",
              "    </tr>\n",
              "  </thead>\n",
              "  <tbody>\n",
              "    <tr>\n",
              "      <th>0</th>\n",
              "      <td>2.859146</td>\n",
              "      <td>0.770659</td>\n",
              "      <td>-2.882182</td>\n",
              "      <td>3.480398</td>\n",
              "      <td>1</td>\n",
              "    </tr>\n",
              "    <tr>\n",
              "      <th>1</th>\n",
              "      <td>1.555192</td>\n",
              "      <td>0.344955</td>\n",
              "      <td>-1.583097</td>\n",
              "      <td>1.613568</td>\n",
              "      <td>1</td>\n",
              "    </tr>\n",
              "    <tr>\n",
              "      <th>2</th>\n",
              "      <td>1.116929</td>\n",
              "      <td>-0.728124</td>\n",
              "      <td>-1.338132</td>\n",
              "      <td>0.641166</td>\n",
              "      <td>1</td>\n",
              "    </tr>\n",
              "    <tr>\n",
              "      <th>3</th>\n",
              "      <td>1.154583</td>\n",
              "      <td>-0.250081</td>\n",
              "      <td>-2.138209</td>\n",
              "      <td>2.839022</td>\n",
              "      <td>1</td>\n",
              "    </tr>\n",
              "    <tr>\n",
              "      <th>4</th>\n",
              "      <td>-0.172723</td>\n",
              "      <td>1.479277</td>\n",
              "      <td>-0.150303</td>\n",
              "      <td>0.417434</td>\n",
              "      <td>0</td>\n",
              "    </tr>\n",
              "    <tr>\n",
              "      <th>...</th>\n",
              "      <td>...</td>\n",
              "      <td>...</td>\n",
              "      <td>...</td>\n",
              "      <td>...</td>\n",
              "      <td>...</td>\n",
              "    </tr>\n",
              "    <tr>\n",
              "      <th>95</th>\n",
              "      <td>0.568757</td>\n",
              "      <td>-0.730688</td>\n",
              "      <td>-0.477568</td>\n",
              "      <td>-0.553376</td>\n",
              "      <td>1</td>\n",
              "    </tr>\n",
              "    <tr>\n",
              "      <th>96</th>\n",
              "      <td>-1.989546</td>\n",
              "      <td>-0.039170</td>\n",
              "      <td>-0.276327</td>\n",
              "      <td>2.121591</td>\n",
              "      <td>0</td>\n",
              "    </tr>\n",
              "    <tr>\n",
              "      <th>97</th>\n",
              "      <td>0.773298</td>\n",
              "      <td>-0.568776</td>\n",
              "      <td>-1.020588</td>\n",
              "      <td>-0.148027</td>\n",
              "      <td>1</td>\n",
              "    </tr>\n",
              "    <tr>\n",
              "      <th>98</th>\n",
              "      <td>-2.335057</td>\n",
              "      <td>3.244775</td>\n",
              "      <td>-2.514671</td>\n",
              "      <td>1.400058</td>\n",
              "      <td>0</td>\n",
              "    </tr>\n",
              "    <tr>\n",
              "      <th>99</th>\n",
              "      <td>-0.023877</td>\n",
              "      <td>0.720394</td>\n",
              "      <td>-0.870364</td>\n",
              "      <td>-0.233023</td>\n",
              "      <td>0</td>\n",
              "    </tr>\n",
              "  </tbody>\n",
              "</table>\n",
              "<p>100 rows × 5 columns</p>\n",
              "</div>\n",
              "      <button class=\"colab-df-convert\" onclick=\"convertToInteractive('df-9cd32bc1-a3c1-4f77-bf63-c82dce8a810c')\"\n",
              "              title=\"Convert this dataframe to an interactive table.\"\n",
              "              style=\"display:none;\">\n",
              "        \n",
              "  <svg xmlns=\"http://www.w3.org/2000/svg\" height=\"24px\"viewBox=\"0 0 24 24\"\n",
              "       width=\"24px\">\n",
              "    <path d=\"M0 0h24v24H0V0z\" fill=\"none\"/>\n",
              "    <path d=\"M18.56 5.44l.94 2.06.94-2.06 2.06-.94-2.06-.94-.94-2.06-.94 2.06-2.06.94zm-11 1L8.5 8.5l.94-2.06 2.06-.94-2.06-.94L8.5 2.5l-.94 2.06-2.06.94zm10 10l.94 2.06.94-2.06 2.06-.94-2.06-.94-.94-2.06-.94 2.06-2.06.94z\"/><path d=\"M17.41 7.96l-1.37-1.37c-.4-.4-.92-.59-1.43-.59-.52 0-1.04.2-1.43.59L10.3 9.45l-7.72 7.72c-.78.78-.78 2.05 0 2.83L4 21.41c.39.39.9.59 1.41.59.51 0 1.02-.2 1.41-.59l7.78-7.78 2.81-2.81c.8-.78.8-2.07 0-2.86zM5.41 20L4 18.59l7.72-7.72 1.47 1.35L5.41 20z\"/>\n",
              "  </svg>\n",
              "      </button>\n",
              "      \n",
              "  <style>\n",
              "    .colab-df-container {\n",
              "      display:flex;\n",
              "      flex-wrap:wrap;\n",
              "      gap: 12px;\n",
              "    }\n",
              "\n",
              "    .colab-df-convert {\n",
              "      background-color: #E8F0FE;\n",
              "      border: none;\n",
              "      border-radius: 50%;\n",
              "      cursor: pointer;\n",
              "      display: none;\n",
              "      fill: #1967D2;\n",
              "      height: 32px;\n",
              "      padding: 0 0 0 0;\n",
              "      width: 32px;\n",
              "    }\n",
              "\n",
              "    .colab-df-convert:hover {\n",
              "      background-color: #E2EBFA;\n",
              "      box-shadow: 0px 1px 2px rgba(60, 64, 67, 0.3), 0px 1px 3px 1px rgba(60, 64, 67, 0.15);\n",
              "      fill: #174EA6;\n",
              "    }\n",
              "\n",
              "    [theme=dark] .colab-df-convert {\n",
              "      background-color: #3B4455;\n",
              "      fill: #D2E3FC;\n",
              "    }\n",
              "\n",
              "    [theme=dark] .colab-df-convert:hover {\n",
              "      background-color: #434B5C;\n",
              "      box-shadow: 0px 1px 3px 1px rgba(0, 0, 0, 0.15);\n",
              "      filter: drop-shadow(0px 1px 2px rgba(0, 0, 0, 0.3));\n",
              "      fill: #FFFFFF;\n",
              "    }\n",
              "  </style>\n",
              "\n",
              "      <script>\n",
              "        const buttonEl =\n",
              "          document.querySelector('#df-9cd32bc1-a3c1-4f77-bf63-c82dce8a810c button.colab-df-convert');\n",
              "        buttonEl.style.display =\n",
              "          google.colab.kernel.accessAllowed ? 'block' : 'none';\n",
              "\n",
              "        async function convertToInteractive(key) {\n",
              "          const element = document.querySelector('#df-9cd32bc1-a3c1-4f77-bf63-c82dce8a810c');\n",
              "          const dataTable =\n",
              "            await google.colab.kernel.invokeFunction('convertToInteractive',\n",
              "                                                     [key], {});\n",
              "          if (!dataTable) return;\n",
              "\n",
              "          const docLinkHtml = 'Like what you see? Visit the ' +\n",
              "            '<a target=\"_blank\" href=https://colab.research.google.com/notebooks/data_table.ipynb>data table notebook</a>'\n",
              "            + ' to learn more about interactive tables.';\n",
              "          element.innerHTML = '';\n",
              "          dataTable['output_type'] = 'display_data';\n",
              "          await google.colab.output.renderOutput(dataTable, element);\n",
              "          const docLink = document.createElement('div');\n",
              "          docLink.innerHTML = docLinkHtml;\n",
              "          element.appendChild(docLink);\n",
              "        }\n",
              "      </script>\n",
              "    </div>\n",
              "  </div>\n",
              "  "
            ]
          },
          "metadata": {},
          "execution_count": 39
        }
      ]
    },
    {
      "cell_type": "code",
      "source": [
        "clf1.predict(np.array([-0.023877,0.720394,-0.870364,-0.233023]).reshape(1,4))  #output we know is zero"
      ],
      "metadata": {
        "colab": {
          "base_uri": "https://localhost:8080/"
        },
        "id": "YhrAtBRw_dgK",
        "outputId": "04edf866-be6d-48c4-96fb-a79e8090b459"
      },
      "execution_count": null,
      "outputs": [
        {
          "output_type": "stream",
          "name": "stderr",
          "text": [
            "/usr/local/lib/python3.9/dist-packages/sklearn/base.py:420: UserWarning: X does not have valid feature names, but DecisionTreeClassifier was fitted with feature names\n",
            "  warnings.warn(\n"
          ]
        },
        {
          "output_type": "execute_result",
          "data": {
            "text/plain": [
              "array([1])"
            ]
          },
          "metadata": {},
          "execution_count": 40
        }
      ]
    },
    {
      "cell_type": "code",
      "source": [
        "clf2.predict(np.array([-0.023877,0.720394,-0.870364,-0.233023]).reshape(1,4))"
      ],
      "metadata": {
        "colab": {
          "base_uri": "https://localhost:8080/"
        },
        "id": "rzCb-Ahj_da5",
        "outputId": "d1b5f22e-35a3-45dc-cc64-813484cdb2d8"
      },
      "execution_count": null,
      "outputs": [
        {
          "output_type": "stream",
          "name": "stderr",
          "text": [
            "/usr/local/lib/python3.9/dist-packages/sklearn/base.py:420: UserWarning: X does not have valid feature names, but DecisionTreeClassifier was fitted with feature names\n",
            "  warnings.warn(\n"
          ]
        },
        {
          "output_type": "execute_result",
          "data": {
            "text/plain": [
              "array([0])"
            ]
          },
          "metadata": {},
          "execution_count": 41
        }
      ]
    },
    {
      "cell_type": "code",
      "source": [
        "clf3.predict(np.array([-0.023877,0.720394,-0.870364,-0.233023]).reshape(1,4))"
      ],
      "metadata": {
        "colab": {
          "base_uri": "https://localhost:8080/"
        },
        "id": "fTAwK8M_AFy8",
        "outputId": "d7d75b2d-4543-4840-b716-7ce0d59446de"
      },
      "execution_count": null,
      "outputs": [
        {
          "output_type": "stream",
          "name": "stderr",
          "text": [
            "/usr/local/lib/python3.9/dist-packages/sklearn/base.py:420: UserWarning: X does not have valid feature names, but DecisionTreeClassifier was fitted with feature names\n",
            "  warnings.warn(\n"
          ]
        },
        {
          "output_type": "execute_result",
          "data": {
            "text/plain": [
              "array([0])"
            ]
          },
          "metadata": {},
          "execution_count": 42
        }
      ]
    },
    {
      "cell_type": "code",
      "source": [
        "#here also majority wins and answer is zero"
      ],
      "metadata": {
        "id": "zV0i9oBeAIni"
      },
      "execution_count": null,
      "outputs": []
    },
    {
      "cell_type": "markdown",
      "source": [
        "## **Random Patches**\n",
        "\n",
        "In Random Patches we do both column and row sampling"
      ],
      "metadata": {
        "id": "uGV1Obs48oN5"
      }
    },
    {
      "cell_type": "code",
      "metadata": {
        "colab": {
          "base_uri": "https://localhost:8080/"
        },
        "id": "tAi9pPs49VsF",
        "outputId": "97589529-cfce-48d2-fb6d-03c3c6dfcf09"
      },
      "source": [
        "df1 = combined_sampling(df,0.5,0.5)"
      ],
      "execution_count": null,
      "outputs": [
        {
          "output_type": "stream",
          "text": [
            "/usr/local/lib/python3.7/dist-packages/ipykernel_launcher.py:5: SettingWithCopyWarning: \n",
            "A value is trying to be set on a copy of a slice from a DataFrame.\n",
            "Try using .loc[row_indexer,col_indexer] = value instead\n",
            "\n",
            "See the caveats in the documentation: https://pandas.pydata.org/pandas-docs/stable/user_guide/indexing.html#returning-a-view-versus-a-copy\n",
            "  \"\"\"\n"
          ],
          "name": "stderr"
        }
      ]
    },
    {
      "cell_type": "code",
      "metadata": {
        "colab": {
          "base_uri": "https://localhost:8080/"
        },
        "id": "Xaq3G-P19Vy6",
        "outputId": "8cd80f49-6579-4031-812e-f2199d1afb0b"
      },
      "source": [
        "df2 = combined_sampling(df,0.5,0.5)"
      ],
      "execution_count": null,
      "outputs": [
        {
          "output_type": "stream",
          "text": [
            "/usr/local/lib/python3.7/dist-packages/ipykernel_launcher.py:5: SettingWithCopyWarning: \n",
            "A value is trying to be set on a copy of a slice from a DataFrame.\n",
            "Try using .loc[row_indexer,col_indexer] = value instead\n",
            "\n",
            "See the caveats in the documentation: https://pandas.pydata.org/pandas-docs/stable/user_guide/indexing.html#returning-a-view-versus-a-copy\n",
            "  \"\"\"\n"
          ],
          "name": "stderr"
        }
      ]
    },
    {
      "cell_type": "code",
      "metadata": {
        "colab": {
          "base_uri": "https://localhost:8080/"
        },
        "id": "WgPzMsz-9V5z",
        "outputId": "129228a4-037e-4c73-e81a-47ae83ebd218"
      },
      "source": [
        "df3 = combined_sampling(df,0.5,0.5)"
      ],
      "execution_count": null,
      "outputs": [
        {
          "output_type": "stream",
          "text": [
            "/usr/local/lib/python3.7/dist-packages/ipykernel_launcher.py:5: SettingWithCopyWarning: \n",
            "A value is trying to be set on a copy of a slice from a DataFrame.\n",
            "Try using .loc[row_indexer,col_indexer] = value instead\n",
            "\n",
            "See the caveats in the documentation: https://pandas.pydata.org/pandas-docs/stable/user_guide/indexing.html#returning-a-view-versus-a-copy\n",
            "  \"\"\"\n"
          ],
          "name": "stderr"
        }
      ]
    },
    {
      "cell_type": "code",
      "metadata": {
        "colab": {
          "base_uri": "https://localhost:8080/"
        },
        "id": "6XMaiuf59WHb",
        "outputId": "7536fcf6-f0bb-4821-d5e5-592ff3efc8e9"
      },
      "source": [
        "print(df1.columns)\n",
        "print(df2.columns)\n",
        "print(df3.columns)"
      ],
      "execution_count": null,
      "outputs": [
        {
          "output_type": "stream",
          "text": [
            "Index(['col5', 'col1', 'target'], dtype='object')\n",
            "Index(['col5', 'col1', 'target'], dtype='object')\n",
            "Index(['col3', 'col2', 'target'], dtype='object')\n"
          ],
          "name": "stdout"
        }
      ]
    },
    {
      "cell_type": "code",
      "metadata": {
        "colab": {
          "base_uri": "https://localhost:8080/",
          "height": 1000
        },
        "id": "zIq1H_X99WNj",
        "outputId": "11810499-c52c-4f11-f9cd-15a5c77afb8b"
      },
      "source": [
        "df3"
      ],
      "execution_count": null,
      "outputs": [
        {
          "output_type": "execute_result",
          "data": {
            "text/html": [
              "<div>\n",
              "<style scoped>\n",
              "    .dataframe tbody tr th:only-of-type {\n",
              "        vertical-align: middle;\n",
              "    }\n",
              "\n",
              "    .dataframe tbody tr th {\n",
              "        vertical-align: top;\n",
              "    }\n",
              "\n",
              "    .dataframe thead th {\n",
              "        text-align: right;\n",
              "    }\n",
              "</style>\n",
              "<table border=\"1\" class=\"dataframe\">\n",
              "  <thead>\n",
              "    <tr style=\"text-align: right;\">\n",
              "      <th></th>\n",
              "      <th>col3</th>\n",
              "      <th>col2</th>\n",
              "      <th>target</th>\n",
              "    </tr>\n",
              "  </thead>\n",
              "  <tbody>\n",
              "    <tr>\n",
              "      <th>2</th>\n",
              "      <td>-0.943985</td>\n",
              "      <td>-1.727474</td>\n",
              "      <td>1</td>\n",
              "    </tr>\n",
              "    <tr>\n",
              "      <th>53</th>\n",
              "      <td>2.879522</td>\n",
              "      <td>-1.179645</td>\n",
              "      <td>0</td>\n",
              "    </tr>\n",
              "    <tr>\n",
              "      <th>17</th>\n",
              "      <td>-0.601854</td>\n",
              "      <td>0.240279</td>\n",
              "      <td>1</td>\n",
              "    </tr>\n",
              "    <tr>\n",
              "      <th>12</th>\n",
              "      <td>-1.209724</td>\n",
              "      <td>0.077615</td>\n",
              "      <td>1</td>\n",
              "    </tr>\n",
              "    <tr>\n",
              "      <th>8</th>\n",
              "      <td>-0.147061</td>\n",
              "      <td>-0.352877</td>\n",
              "      <td>0</td>\n",
              "    </tr>\n",
              "    <tr>\n",
              "      <th>6</th>\n",
              "      <td>-1.029536</td>\n",
              "      <td>-0.770751</td>\n",
              "      <td>1</td>\n",
              "    </tr>\n",
              "    <tr>\n",
              "      <th>94</th>\n",
              "      <td>-0.930578</td>\n",
              "      <td>-1.265605</td>\n",
              "      <td>1</td>\n",
              "    </tr>\n",
              "    <tr>\n",
              "      <th>4</th>\n",
              "      <td>0.022074</td>\n",
              "      <td>-0.911493</td>\n",
              "      <td>0</td>\n",
              "    </tr>\n",
              "    <tr>\n",
              "      <th>38</th>\n",
              "      <td>2.538559</td>\n",
              "      <td>-1.042250</td>\n",
              "      <td>0</td>\n",
              "    </tr>\n",
              "    <tr>\n",
              "      <th>40</th>\n",
              "      <td>0.595038</td>\n",
              "      <td>-0.162759</td>\n",
              "      <td>0</td>\n",
              "    </tr>\n",
              "    <tr>\n",
              "      <th>99</th>\n",
              "      <td>1.558165</td>\n",
              "      <td>-2.026716</td>\n",
              "      <td>0</td>\n",
              "    </tr>\n",
              "    <tr>\n",
              "      <th>25</th>\n",
              "      <td>-0.256852</td>\n",
              "      <td>-3.206283</td>\n",
              "      <td>1</td>\n",
              "    </tr>\n",
              "    <tr>\n",
              "      <th>91</th>\n",
              "      <td>-1.182347</td>\n",
              "      <td>-1.528637</td>\n",
              "      <td>0</td>\n",
              "    </tr>\n",
              "    <tr>\n",
              "      <th>12</th>\n",
              "      <td>-1.209724</td>\n",
              "      <td>0.077615</td>\n",
              "      <td>1</td>\n",
              "    </tr>\n",
              "    <tr>\n",
              "      <th>11</th>\n",
              "      <td>-0.679621</td>\n",
              "      <td>-1.275311</td>\n",
              "      <td>1</td>\n",
              "    </tr>\n",
              "    <tr>\n",
              "      <th>32</th>\n",
              "      <td>-1.343188</td>\n",
              "      <td>-0.141246</td>\n",
              "      <td>1</td>\n",
              "    </tr>\n",
              "    <tr>\n",
              "      <th>54</th>\n",
              "      <td>-0.384640</td>\n",
              "      <td>-0.270707</td>\n",
              "      <td>1</td>\n",
              "    </tr>\n",
              "    <tr>\n",
              "      <th>79</th>\n",
              "      <td>-0.558081</td>\n",
              "      <td>-1.985678</td>\n",
              "      <td>0</td>\n",
              "    </tr>\n",
              "    <tr>\n",
              "      <th>70</th>\n",
              "      <td>-0.438380</td>\n",
              "      <td>-1.497126</td>\n",
              "      <td>1</td>\n",
              "    </tr>\n",
              "    <tr>\n",
              "      <th>89</th>\n",
              "      <td>1.305171</td>\n",
              "      <td>-0.374577</td>\n",
              "      <td>0</td>\n",
              "    </tr>\n",
              "    <tr>\n",
              "      <th>10</th>\n",
              "      <td>-0.513609</td>\n",
              "      <td>-1.946675</td>\n",
              "      <td>1</td>\n",
              "    </tr>\n",
              "    <tr>\n",
              "      <th>22</th>\n",
              "      <td>-1.774446</td>\n",
              "      <td>-0.503487</td>\n",
              "      <td>1</td>\n",
              "    </tr>\n",
              "    <tr>\n",
              "      <th>87</th>\n",
              "      <td>-1.347947</td>\n",
              "      <td>-0.196919</td>\n",
              "      <td>1</td>\n",
              "    </tr>\n",
              "    <tr>\n",
              "      <th>96</th>\n",
              "      <td>-1.153825</td>\n",
              "      <td>-0.494453</td>\n",
              "      <td>1</td>\n",
              "    </tr>\n",
              "    <tr>\n",
              "      <th>14</th>\n",
              "      <td>-1.039782</td>\n",
              "      <td>-0.106427</td>\n",
              "      <td>1</td>\n",
              "    </tr>\n",
              "    <tr>\n",
              "      <th>84</th>\n",
              "      <td>1.986095</td>\n",
              "      <td>-1.284953</td>\n",
              "      <td>0</td>\n",
              "    </tr>\n",
              "    <tr>\n",
              "      <th>49</th>\n",
              "      <td>0.578898</td>\n",
              "      <td>-1.649036</td>\n",
              "      <td>0</td>\n",
              "    </tr>\n",
              "    <tr>\n",
              "      <th>74</th>\n",
              "      <td>1.125979</td>\n",
              "      <td>-2.884012</td>\n",
              "      <td>0</td>\n",
              "    </tr>\n",
              "    <tr>\n",
              "      <th>1</th>\n",
              "      <td>0.387900</td>\n",
              "      <td>-3.129695</td>\n",
              "      <td>0</td>\n",
              "    </tr>\n",
              "    <tr>\n",
              "      <th>73</th>\n",
              "      <td>-0.580873</td>\n",
              "      <td>-0.734898</td>\n",
              "      <td>1</td>\n",
              "    </tr>\n",
              "    <tr>\n",
              "      <th>86</th>\n",
              "      <td>1.411655</td>\n",
              "      <td>1.288265</td>\n",
              "      <td>0</td>\n",
              "    </tr>\n",
              "    <tr>\n",
              "      <th>66</th>\n",
              "      <td>0.885978</td>\n",
              "      <td>-3.087130</td>\n",
              "      <td>0</td>\n",
              "    </tr>\n",
              "    <tr>\n",
              "      <th>40</th>\n",
              "      <td>0.595038</td>\n",
              "      <td>-0.162759</td>\n",
              "      <td>0</td>\n",
              "    </tr>\n",
              "    <tr>\n",
              "      <th>91</th>\n",
              "      <td>-1.182347</td>\n",
              "      <td>-1.528637</td>\n",
              "      <td>0</td>\n",
              "    </tr>\n",
              "    <tr>\n",
              "      <th>48</th>\n",
              "      <td>-1.042498</td>\n",
              "      <td>-0.064323</td>\n",
              "      <td>1</td>\n",
              "    </tr>\n",
              "    <tr>\n",
              "      <th>92</th>\n",
              "      <td>-1.406179</td>\n",
              "      <td>-1.957413</td>\n",
              "      <td>1</td>\n",
              "    </tr>\n",
              "    <tr>\n",
              "      <th>8</th>\n",
              "      <td>-0.147061</td>\n",
              "      <td>-0.352877</td>\n",
              "      <td>0</td>\n",
              "    </tr>\n",
              "    <tr>\n",
              "      <th>89</th>\n",
              "      <td>1.305171</td>\n",
              "      <td>-0.374577</td>\n",
              "      <td>0</td>\n",
              "    </tr>\n",
              "    <tr>\n",
              "      <th>50</th>\n",
              "      <td>0.534164</td>\n",
              "      <td>-1.161223</td>\n",
              "      <td>0</td>\n",
              "    </tr>\n",
              "    <tr>\n",
              "      <th>98</th>\n",
              "      <td>-0.158598</td>\n",
              "      <td>-1.798861</td>\n",
              "      <td>0</td>\n",
              "    </tr>\n",
              "    <tr>\n",
              "      <th>83</th>\n",
              "      <td>-1.550002</td>\n",
              "      <td>-1.126191</td>\n",
              "      <td>1</td>\n",
              "    </tr>\n",
              "    <tr>\n",
              "      <th>51</th>\n",
              "      <td>-0.986968</td>\n",
              "      <td>-2.296564</td>\n",
              "      <td>1</td>\n",
              "    </tr>\n",
              "    <tr>\n",
              "      <th>54</th>\n",
              "      <td>-0.384640</td>\n",
              "      <td>-0.270707</td>\n",
              "      <td>1</td>\n",
              "    </tr>\n",
              "    <tr>\n",
              "      <th>56</th>\n",
              "      <td>-1.061683</td>\n",
              "      <td>-0.685227</td>\n",
              "      <td>1</td>\n",
              "    </tr>\n",
              "    <tr>\n",
              "      <th>91</th>\n",
              "      <td>-1.182347</td>\n",
              "      <td>-1.528637</td>\n",
              "      <td>0</td>\n",
              "    </tr>\n",
              "    <tr>\n",
              "      <th>94</th>\n",
              "      <td>-0.930578</td>\n",
              "      <td>-1.265605</td>\n",
              "      <td>1</td>\n",
              "    </tr>\n",
              "    <tr>\n",
              "      <th>49</th>\n",
              "      <td>0.578898</td>\n",
              "      <td>-1.649036</td>\n",
              "      <td>0</td>\n",
              "    </tr>\n",
              "    <tr>\n",
              "      <th>91</th>\n",
              "      <td>-1.182347</td>\n",
              "      <td>-1.528637</td>\n",
              "      <td>0</td>\n",
              "    </tr>\n",
              "    <tr>\n",
              "      <th>2</th>\n",
              "      <td>-0.943985</td>\n",
              "      <td>-1.727474</td>\n",
              "      <td>1</td>\n",
              "    </tr>\n",
              "    <tr>\n",
              "      <th>78</th>\n",
              "      <td>-1.013512</td>\n",
              "      <td>-1.587964</td>\n",
              "      <td>1</td>\n",
              "    </tr>\n",
              "  </tbody>\n",
              "</table>\n",
              "</div>"
            ],
            "text/plain": [
              "        col3      col2  target\n",
              "2  -0.943985 -1.727474       1\n",
              "53  2.879522 -1.179645       0\n",
              "17 -0.601854  0.240279       1\n",
              "12 -1.209724  0.077615       1\n",
              "8  -0.147061 -0.352877       0\n",
              "6  -1.029536 -0.770751       1\n",
              "94 -0.930578 -1.265605       1\n",
              "4   0.022074 -0.911493       0\n",
              "38  2.538559 -1.042250       0\n",
              "40  0.595038 -0.162759       0\n",
              "99  1.558165 -2.026716       0\n",
              "25 -0.256852 -3.206283       1\n",
              "91 -1.182347 -1.528637       0\n",
              "12 -1.209724  0.077615       1\n",
              "11 -0.679621 -1.275311       1\n",
              "32 -1.343188 -0.141246       1\n",
              "54 -0.384640 -0.270707       1\n",
              "79 -0.558081 -1.985678       0\n",
              "70 -0.438380 -1.497126       1\n",
              "89  1.305171 -0.374577       0\n",
              "10 -0.513609 -1.946675       1\n",
              "22 -1.774446 -0.503487       1\n",
              "87 -1.347947 -0.196919       1\n",
              "96 -1.153825 -0.494453       1\n",
              "14 -1.039782 -0.106427       1\n",
              "84  1.986095 -1.284953       0\n",
              "49  0.578898 -1.649036       0\n",
              "74  1.125979 -2.884012       0\n",
              "1   0.387900 -3.129695       0\n",
              "73 -0.580873 -0.734898       1\n",
              "86  1.411655  1.288265       0\n",
              "66  0.885978 -3.087130       0\n",
              "40  0.595038 -0.162759       0\n",
              "91 -1.182347 -1.528637       0\n",
              "48 -1.042498 -0.064323       1\n",
              "92 -1.406179 -1.957413       1\n",
              "8  -0.147061 -0.352877       0\n",
              "89  1.305171 -0.374577       0\n",
              "50  0.534164 -1.161223       0\n",
              "98 -0.158598 -1.798861       0\n",
              "83 -1.550002 -1.126191       1\n",
              "51 -0.986968 -2.296564       1\n",
              "54 -0.384640 -0.270707       1\n",
              "56 -1.061683 -0.685227       1\n",
              "91 -1.182347 -1.528637       0\n",
              "94 -0.930578 -1.265605       1\n",
              "49  0.578898 -1.649036       0\n",
              "91 -1.182347 -1.528637       0\n",
              "2  -0.943985 -1.727474       1\n",
              "78 -1.013512 -1.587964       1"
            ]
          },
          "metadata": {
            "tags": []
          },
          "execution_count": 141
        }
      ]
    },
    {
      "cell_type": "code",
      "metadata": {
        "id": "Ee9eCA0tbdlo"
      },
      "source": [
        "from sklearn.tree import DecisionTreeClassifier\n",
        "clf1 = DecisionTreeClassifier()\n",
        "clf2 = DecisionTreeClassifier()\n",
        "clf3 = DecisionTreeClassifier()"
      ],
      "execution_count": null,
      "outputs": []
    },
    {
      "cell_type": "code",
      "metadata": {
        "colab": {
          "base_uri": "https://localhost:8080/"
        },
        "id": "FsbRwvPGbskE",
        "outputId": "ea00a6c2-c5c9-413b-ec38-071670643e3e"
      },
      "source": [
        "clf1.fit(df1.iloc[:,0:2],df1.iloc[:,-1])\n",
        "clf2.fit(df2.iloc[:,0:2],df2.iloc[:,-1])\n",
        "clf3.fit(df3.iloc[:,0:2],df3.iloc[:,-1])"
      ],
      "execution_count": null,
      "outputs": [
        {
          "output_type": "execute_result",
          "data": {
            "text/plain": [
              "DecisionTreeClassifier(ccp_alpha=0.0, class_weight=None, criterion='gini',\n",
              "                       max_depth=None, max_features=None, max_leaf_nodes=None,\n",
              "                       min_impurity_decrease=0.0, min_impurity_split=None,\n",
              "                       min_samples_leaf=1, min_samples_split=2,\n",
              "                       min_weight_fraction_leaf=0.0, presort='deprecated',\n",
              "                       random_state=None, splitter='best')"
            ]
          },
          "metadata": {
            "tags": []
          },
          "execution_count": 137
        }
      ]
    },
    {
      "cell_type": "code",
      "metadata": {
        "id": "1TgG9KBcb75I"
      },
      "source": [
        "from sklearn.tree import plot_tree"
      ],
      "execution_count": null,
      "outputs": []
    },
    {
      "cell_type": "code",
      "metadata": {
        "colab": {
          "base_uri": "https://localhost:8080/",
          "height": 542
        },
        "id": "ezaWbbKlcDo8",
        "outputId": "eccea661-a3d3-40f6-f6de-2e90ffd2be78"
      },
      "source": [
        "plot_tree(clf1)"
      ],
      "execution_count": null,
      "outputs": [
        {
          "output_type": "execute_result",
          "data": {
            "text/plain": [
              "[Text(167.4, 199.32, 'X[1] <= 0.417\\ngini = 0.487\\nsamples = 50\\nvalue = [21, 29]'),\n",
              " Text(55.800000000000004, 163.07999999999998, 'X[0] <= -1.244\\ngini = 0.198\\nsamples = 27\\nvalue = [3, 24]'),\n",
              " Text(27.900000000000002, 126.83999999999999, 'gini = 0.0\\nsamples = 2\\nvalue = [2, 0]'),\n",
              " Text(83.7, 126.83999999999999, 'X[1] <= 0.149\\ngini = 0.077\\nsamples = 25\\nvalue = [1, 24]'),\n",
              " Text(55.800000000000004, 90.6, 'gini = 0.0\\nsamples = 22\\nvalue = [0, 22]'),\n",
              " Text(111.60000000000001, 90.6, 'X[0] <= 1.129\\ngini = 0.444\\nsamples = 3\\nvalue = [1, 2]'),\n",
              " Text(83.7, 54.359999999999985, 'gini = 0.0\\nsamples = 1\\nvalue = [1, 0]'),\n",
              " Text(139.5, 54.359999999999985, 'gini = 0.0\\nsamples = 2\\nvalue = [0, 2]'),\n",
              " Text(279.0, 163.07999999999998, 'X[1] <= 2.099\\ngini = 0.34\\nsamples = 23\\nvalue = [18, 5]'),\n",
              " Text(251.10000000000002, 126.83999999999999, 'X[1] <= 1.129\\ngini = 0.245\\nsamples = 21\\nvalue = [18, 3]'),\n",
              " Text(223.20000000000002, 90.6, 'X[1] <= 0.901\\ngini = 0.397\\nsamples = 11\\nvalue = [8, 3]'),\n",
              " Text(195.3, 54.359999999999985, 'X[0] <= 1.885\\ngini = 0.198\\nsamples = 9\\nvalue = [8, 1]'),\n",
              " Text(167.4, 18.119999999999976, 'gini = 0.0\\nsamples = 8\\nvalue = [8, 0]'),\n",
              " Text(223.20000000000002, 18.119999999999976, 'gini = 0.0\\nsamples = 1\\nvalue = [0, 1]'),\n",
              " Text(251.10000000000002, 54.359999999999985, 'gini = 0.0\\nsamples = 2\\nvalue = [0, 2]'),\n",
              " Text(279.0, 90.6, 'gini = 0.0\\nsamples = 10\\nvalue = [10, 0]'),\n",
              " Text(306.90000000000003, 126.83999999999999, 'gini = 0.0\\nsamples = 2\\nvalue = [0, 2]')]"
            ]
          },
          "metadata": {
            "tags": []
          },
          "execution_count": 138
        },
        {
          "output_type": "display_data",
          "data": {
            "image/png": "[encoded data removed]",
            "text/plain": [
              "<Figure size 432x288 with 1 Axes>"
            ]
          },
          "metadata": {
            "tags": [],
            "needs_background": "light"
          }
        }
      ]
    },
    {
      "cell_type": "code",
      "metadata": {
        "colab": {
          "base_uri": "https://localhost:8080/",
          "height": 473
        },
        "id": "hYpTwnxOcFgA",
        "outputId": "1191ef5b-7551-402d-8ccb-593eb90ad126"
      },
      "source": [
        "plot_tree(clf2)"
      ],
      "execution_count": null,
      "outputs": [
        {
          "output_type": "execute_result",
          "data": {
            "text/plain": [
              "[Text(209.25, 201.90857142857143, 'X[1] <= -0.391\\ngini = 0.5\\nsamples = 50\\nvalue = [25, 25]'),\n",
              " Text(167.4, 170.84571428571428, 'gini = 0.0\\nsamples = 17\\nvalue = [0, 17]'),\n",
              " Text(251.10000000000002, 170.84571428571428, 'X[0] <= 3.267\\ngini = 0.367\\nsamples = 33\\nvalue = [25, 8]'),\n",
              " Text(209.25, 139.78285714285715, 'X[1] <= 0.588\\ngini = 0.278\\nsamples = 30\\nvalue = [25, 5]'),\n",
              " Text(167.4, 108.72, 'X[1] <= 0.357\\ngini = 0.496\\nsamples = 11\\nvalue = [6, 5]'),\n",
              " Text(125.55000000000001, 77.65714285714284, 'X[1] <= -0.15\\ngini = 0.245\\nsamples = 7\\nvalue = [6, 1]'),\n",
              " Text(83.7, 46.59428571428572, 'X[1] <= -0.162\\ngini = 0.5\\nsamples = 2\\nvalue = [1, 1]'),\n",
              " Text(41.85, 15.531428571428563, 'gini = 0.0\\nsamples = 1\\nvalue = [1, 0]'),\n",
              " Text(125.55000000000001, 15.531428571428563, 'gini = 0.0\\nsamples = 1\\nvalue = [0, 1]'),\n",
              " Text(167.4, 46.59428571428572, 'gini = 0.0\\nsamples = 5\\nvalue = [5, 0]'),\n",
              " Text(209.25, 77.65714285714284, 'gini = 0.0\\nsamples = 4\\nvalue = [0, 4]'),\n",
              " Text(251.10000000000002, 108.72, 'gini = 0.0\\nsamples = 19\\nvalue = [19, 0]'),\n",
              " Text(292.95, 139.78285714285715, 'gini = 0.0\\nsamples = 3\\nvalue = [0, 3]')]"
            ]
          },
          "metadata": {
            "tags": []
          },
          "execution_count": 139
        },
        {
          "output_type": "display_data",
          "data": {
            "image/png": "[encoded data removed]",
            "text/plain": [
              "<Figure size 432x288 with 1 Axes>"
            ]
          },
          "metadata": {
            "tags": [],
            "needs_background": "light"
          }
        }
      ]
    },
    {
      "cell_type": "code",
      "metadata": {
        "colab": {
          "base_uri": "https://localhost:8080/",
          "height": 438
        },
        "id": "hoW0vMXScRMk",
        "outputId": "2e9d4596-08e9-46dc-c440-1584ebd9f95a"
      },
      "source": [
        "plot_tree(clf3)"
      ],
      "execution_count": null,
      "outputs": [
        {
          "output_type": "execute_result",
          "data": {
            "text/plain": [
              "[Text(251.10000000000002, 199.32, 'X[0] <= -0.208\\ngini = 0.499\\nsamples = 50\\nvalue = [24, 26]'),\n",
              " Text(209.25, 163.07999999999998, 'X[1] <= -1.513\\ngini = 0.271\\nsamples = 31\\nvalue = [5, 26]'),\n",
              " Text(167.4, 126.83999999999999, 'X[1] <= -1.558\\ngini = 0.486\\nsamples = 12\\nvalue = [5, 7]'),\n",
              " Text(125.55000000000001, 90.6, 'X[1] <= -1.972\\ngini = 0.219\\nsamples = 8\\nvalue = [1, 7]'),\n",
              " Text(83.7, 54.359999999999985, 'X[1] <= -2.141\\ngini = 0.444\\nsamples = 3\\nvalue = [1, 2]'),\n",
              " Text(41.85, 18.119999999999976, 'gini = 0.0\\nsamples = 2\\nvalue = [0, 2]'),\n",
              " Text(125.55000000000001, 18.119999999999976, 'gini = 0.0\\nsamples = 1\\nvalue = [1, 0]'),\n",
              " Text(167.4, 54.359999999999985, 'gini = 0.0\\nsamples = 5\\nvalue = [0, 5]'),\n",
              " Text(209.25, 90.6, 'gini = 0.0\\nsamples = 4\\nvalue = [4, 0]'),\n",
              " Text(251.10000000000002, 126.83999999999999, 'gini = 0.0\\nsamples = 19\\nvalue = [0, 19]'),\n",
              " Text(292.95, 163.07999999999998, 'gini = 0.0\\nsamples = 19\\nvalue = [19, 0]')]"
            ]
          },
          "metadata": {
            "tags": []
          },
          "execution_count": 140
        },
        {
          "output_type": "display_data",
          "data": {
            "image/png": "[encoded data removed]",
            "text/plain": [
              "<Figure size 432x288 with 1 Axes>"
            ]
          },
          "metadata": {
            "tags": [],
            "needs_background": "light"
          }
        }
      ]
    },
    {
      "cell_type": "code",
      "metadata": {
        "id": "I6TF3rdncVt0",
        "colab": {
          "base_uri": "https://localhost:8080/"
        },
        "outputId": "c55af97d-a9fd-4f7d-c740-101551f4fc3d"
      },
      "source": [
        "clf1.predict(np.array([-1.042498,\t-0.064323]).reshape(1,2))"
      ],
      "execution_count": null,
      "outputs": [
        {
          "output_type": "execute_result",
          "data": {
            "text/plain": [
              "array([1])"
            ]
          },
          "metadata": {
            "tags": []
          },
          "execution_count": 143
        }
      ]
    },
    {
      "cell_type": "code",
      "metadata": {
        "colab": {
          "base_uri": "https://localhost:8080/"
        },
        "id": "VM7HvDCqiMo0",
        "outputId": "26db8422-8897-48fa-dff6-cf21e9aef41b"
      },
      "source": [
        "clf2.predict(np.array([-1.042498,\t-0.064323]).reshape(1,2))"
      ],
      "execution_count": null,
      "outputs": [
        {
          "output_type": "execute_result",
          "data": {
            "text/plain": [
              "array([0])"
            ]
          },
          "metadata": {
            "tags": []
          },
          "execution_count": 144
        }
      ]
    },
    {
      "cell_type": "code",
      "metadata": {
        "colab": {
          "base_uri": "https://localhost:8080/"
        },
        "id": "ppIM05J2iTYg",
        "outputId": "7b181b3f-3ab5-46bc-da57-28b3be2402f0"
      },
      "source": [
        "clf3.predict(np.array([-1.042498,\t-0.064323]).reshape(1,2))"
      ],
      "execution_count": null,
      "outputs": [
        {
          "output_type": "execute_result",
          "data": {
            "text/plain": [
              "array([1])"
            ]
          },
          "metadata": {
            "tags": []
          },
          "execution_count": 145
        }
      ]
    },
    {
      "cell_type": "code",
      "metadata": {
        "colab": {
          "base_uri": "https://localhost:8080/",
          "height": 465
        },
        "id": "nIrui56hiU7X",
        "outputId": "64d6f3ff-47dd-43ea-b57f-d94bf14cec1e"
      },
      "source": [
        "df.sample(14,replace=True)"
      ],
      "execution_count": null,
      "outputs": [
        {
          "output_type": "execute_result",
          "data": {
            "text/html": [
              "<div>\n",
              "<style scoped>\n",
              "    .dataframe tbody tr th:only-of-type {\n",
              "        vertical-align: middle;\n",
              "    }\n",
              "\n",
              "    .dataframe tbody tr th {\n",
              "        vertical-align: top;\n",
              "    }\n",
              "\n",
              "    .dataframe thead th {\n",
              "        text-align: right;\n",
              "    }\n",
              "</style>\n",
              "<table border=\"1\" class=\"dataframe\">\n",
              "  <thead>\n",
              "    <tr style=\"text-align: right;\">\n",
              "      <th></th>\n",
              "      <th>humidity</th>\n",
              "      <th>wind</th>\n",
              "      <th>play</th>\n",
              "    </tr>\n",
              "  </thead>\n",
              "  <tbody>\n",
              "    <tr>\n",
              "      <th>0</th>\n",
              "      <td>0</td>\n",
              "      <td>1</td>\n",
              "      <td>0</td>\n",
              "    </tr>\n",
              "    <tr>\n",
              "      <th>0</th>\n",
              "      <td>0</td>\n",
              "      <td>1</td>\n",
              "      <td>0</td>\n",
              "    </tr>\n",
              "    <tr>\n",
              "      <th>0</th>\n",
              "      <td>0</td>\n",
              "      <td>1</td>\n",
              "      <td>0</td>\n",
              "    </tr>\n",
              "    <tr>\n",
              "      <th>10</th>\n",
              "      <td>1</td>\n",
              "      <td>0</td>\n",
              "      <td>1</td>\n",
              "    </tr>\n",
              "    <tr>\n",
              "      <th>13</th>\n",
              "      <td>0</td>\n",
              "      <td>0</td>\n",
              "      <td>0</td>\n",
              "    </tr>\n",
              "    <tr>\n",
              "      <th>4</th>\n",
              "      <td>1</td>\n",
              "      <td>1</td>\n",
              "      <td>1</td>\n",
              "    </tr>\n",
              "    <tr>\n",
              "      <th>7</th>\n",
              "      <td>0</td>\n",
              "      <td>1</td>\n",
              "      <td>0</td>\n",
              "    </tr>\n",
              "    <tr>\n",
              "      <th>6</th>\n",
              "      <td>1</td>\n",
              "      <td>0</td>\n",
              "      <td>1</td>\n",
              "    </tr>\n",
              "    <tr>\n",
              "      <th>4</th>\n",
              "      <td>1</td>\n",
              "      <td>1</td>\n",
              "      <td>1</td>\n",
              "    </tr>\n",
              "    <tr>\n",
              "      <th>3</th>\n",
              "      <td>0</td>\n",
              "      <td>1</td>\n",
              "      <td>1</td>\n",
              "    </tr>\n",
              "    <tr>\n",
              "      <th>9</th>\n",
              "      <td>1</td>\n",
              "      <td>1</td>\n",
              "      <td>1</td>\n",
              "    </tr>\n",
              "    <tr>\n",
              "      <th>8</th>\n",
              "      <td>1</td>\n",
              "      <td>1</td>\n",
              "      <td>1</td>\n",
              "    </tr>\n",
              "    <tr>\n",
              "      <th>10</th>\n",
              "      <td>1</td>\n",
              "      <td>0</td>\n",
              "      <td>1</td>\n",
              "    </tr>\n",
              "    <tr>\n",
              "      <th>2</th>\n",
              "      <td>0</td>\n",
              "      <td>1</td>\n",
              "      <td>1</td>\n",
              "    </tr>\n",
              "  </tbody>\n",
              "</table>\n",
              "</div>"
            ],
            "text/plain": [
              "    humidity  wind  play\n",
              "0          0     1     0\n",
              "0          0     1     0\n",
              "0          0     1     0\n",
              "10         1     0     1\n",
              "13         0     0     0\n",
              "4          1     1     1\n",
              "7          0     1     0\n",
              "6          1     0     1\n",
              "4          1     1     1\n",
              "3          0     1     1\n",
              "9          1     1     1\n",
              "8          1     1     1\n",
              "10         1     0     1\n",
              "2          0     1     1"
            ]
          },
          "metadata": {
            "tags": []
          },
          "execution_count": 37
        }
      ]
    },
    {
      "cell_type": "code",
      "metadata": {
        "id": "LCVUEl5okDtB"
      },
      "source": [],
      "execution_count": null,
      "outputs": []
    }
  ]
}